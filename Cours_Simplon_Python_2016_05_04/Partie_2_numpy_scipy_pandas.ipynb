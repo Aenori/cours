{
 "cells": [
  {
   "cell_type": "markdown",
   "metadata": {
    "collapsed": true
   },
   "source": [
    "# Numpy, scipy et pandas\n",
    "\n",
    "Il s'agit de librairies scientifique qui font en grande partie la popularité de python.\n",
    "Elles sont rapides et efficaces."
   ]
  },
  {
   "cell_type": "code",
   "execution_count": 1,
   "metadata": {
    "collapsed": false
   },
   "outputs": [
    {
     "name": "stdout",
     "output_type": "stream",
     "text": [
      "User defined method or cross-method\n",
      "100 loops, best of 3: 12.3 ms per loop\n",
      "100 loops, best of 3: 10.3 ms per loop\n",
      "100 loops, best of 3: 7.53 ms per loop\n",
      "100 loops, best of 3: 5.2 ms per loop\n",
      "Builtin function\n",
      "1000 loops, best of 3: 1.16 ms per loop\n",
      "Numpy function\n",
      "The slowest run took 4.10 times longer than the fastest. This could mean that an intermediate result is being cached.\n",
      "10000 loops, best of 3: 69.7 µs per loop\n",
      "10000 loops, best of 3: 68.6 µs per loop\n"
     ]
    }
   ],
   "source": [
    "import numpy as np\n",
    "\n",
    "def my_sum(l):\n",
    "    res = 0\n",
    "    for it in l:\n",
    "        res += it\n",
    "    return res\n",
    "l = list(range(100000))\n",
    "a = np.arange(100000)\n",
    "\n",
    "print(\"User defined method or cross-method\")\n",
    "%timeit my_sum(a) # user defined with numpy array\n",
    "%timeit sum(a)    # built-in with numpy array\n",
    "%timeit np.sum(l) # numpy function with list\n",
    "%timeit my_sum(l) # user definedwith list\n",
    "print(\"Builtin function\")\n",
    "%timeit sum(l)    # built-in with list\n",
    "print(\"Numpy function\")\n",
    "%timeit np.sum(a) # numpy function\n",
    "%timeit a.sum()   # numpy method"
   ]
  },
  {
   "cell_type": "markdown",
   "metadata": {},
   "source": [
    "Le langage python en lui-même est lent, mais il est basé sur une couche en C, qui est un langage potentiellement très efficace.  \n",
    "On peut donc avoir des programmes compliqués et pourtant rapide écrit en python, à condition que python ne soit que le chef d'orchestre qui organise les différents appels et organise les interactions entre les couches et librairies de C ou C++. On peut faire de la 3d en python, ou du traitement d'image (librairie OpenCV).\n",
    "\n",
    "## La librairie numpy\n",
    "\n",
    "Il s'agit du coeur des principales librairies scientifiques de python (scipy, pandas).\n",
    "\n",
    "Elle permet :\n",
    "- de stocker des valeurs numériques de façon efficace\n",
    "- de faire rapidement des calculs usuels (moyenne, min, max) \n",
    "- elle permet de faire des calculs vectoriel, dont les mathématiciens sont assez friands\n",
    "- elle est utilisée dans les librairies fournissant les outils mathématiques standards (scipy, scikit-learn, pandas)\n"
   ]
  },
  {
   "cell_type": "code",
   "execution_count": 34,
   "metadata": {
    "collapsed": false
   },
   "outputs": [
    {
     "data": {
      "text/plain": [
       "array([ 4.14159265,  5.14159265,  6.14159265])"
      ]
     },
     "execution_count": 34,
     "metadata": {},
     "output_type": "execute_result"
    }
   ],
   "source": [
    "import math \n",
    "x = np.array( [1,2,3] )\n",
    "math.pi + x"
   ]
  },
  {
   "cell_type": "code",
   "execution_count": 27,
   "metadata": {
    "collapsed": false
   },
   "outputs": [
    {
     "name": "stdout",
     "output_type": "stream",
     "text": [
      "numpy : [5 7 9]\n",
      "[ 2.5  3.5  4.5]\n",
      "list: [1, 2, 3, 4, 5, 6]\n"
     ]
    },
    {
     "ename": "TypeError",
     "evalue": "unsupported operand type(s) for /: 'list' and 'int'",
     "output_type": "error",
     "traceback": [
      "\u001b[1;31m---------------------------------------------------------------------------\u001b[0m",
      "\u001b[1;31mTypeError\u001b[0m                                 Traceback (most recent call last)",
      "\u001b[1;32m<ipython-input-27-c7dfea0406b7>\u001b[0m in \u001b[0;36m<module>\u001b[1;34m()\u001b[0m\n\u001b[0;32m     11\u001b[0m \u001b[0mprint\u001b[0m\u001b[1;33m(\u001b[0m \u001b[1;34m\"list:\"\u001b[0m\u001b[1;33m,\u001b[0m \u001b[0mx\u001b[0m \u001b[1;33m+\u001b[0m \u001b[0my\u001b[0m \u001b[1;33m)\u001b[0m\u001b[1;33m\u001b[0m\u001b[0m\n\u001b[0;32m     12\u001b[0m \u001b[1;31m## Cela ne fonctionne pas !\u001b[0m\u001b[1;33m\u001b[0m\u001b[1;33m\u001b[0m\u001b[0m\n\u001b[1;32m---> 13\u001b[1;33m \u001b[0mprint\u001b[0m\u001b[1;33m(\u001b[0m \u001b[1;33m(\u001b[0m\u001b[0mx\u001b[0m \u001b[1;33m+\u001b[0m \u001b[0my\u001b[0m\u001b[1;33m)\u001b[0m\u001b[1;33m/\u001b[0m\u001b[1;36m2\u001b[0m \u001b[1;33m)\u001b[0m\u001b[1;33m\u001b[0m\u001b[0m\n\u001b[0m",
      "\u001b[1;31mTypeError\u001b[0m: unsupported operand type(s) for /: 'list' and 'int'"
     ]
    }
   ],
   "source": [
    "import numpy as np\n",
    "\n",
    "\n",
    "x = np.array( [1,2,3] )\n",
    "y = np.array( [4,5,6] )\n",
    "print( \"numpy :\", x + y )\n",
    "print( (x + y)/2 )\n",
    "\n",
    "x = [1,2,3]\n",
    "y = [4,5,6]\n",
    "print( \"list:\", x + y )\n",
    "## Cela ne fonctionne pas !\n",
    "print( (x + y)/2 )"
   ]
  },
  {
   "cell_type": "markdown",
   "metadata": {},
   "source": [
    "Un exemple entre autres, réalisation d'un dégradé de couleur :"
   ]
  },
  {
   "cell_type": "code",
   "execution_count": 35,
   "metadata": {
    "collapsed": false
   },
   "outputs": [],
   "source": [
    "import numpy as np\n",
    "from PIL import Image\n",
    "largeur = 400\n",
    "hauteur = 210\n",
    "\n",
    "carre = Image.new(\"RGB\",(largeur,hauteur))\n",
    "mat_cr = carre.load() \n",
    "\n",
    "indigo = np.array((128,0,255))\n",
    "orange = np.array((255,128,0))\n",
    "\n",
    "def faire_degrade( cr, mat_cr, couleur1, couleur2 ):\n",
    "    max_x, max_y = cr.size\n",
    "    for it_y in range(0, max_y):\n",
    "        coef1 = it_y\n",
    "        coef2 = max_y - 1 - it_y\n",
    "        couleur = tuple( (coef1*couleur1 + coef2*couleur2)//(max_y \n",
    "                                                             - 1) )\n",
    "        for it_x in range(0, max_x):\n",
    "            mat_cr[ it_x, it_y ] = couleur\n",
    "            \n",
    "faire_degrade( carre, mat_cr, indigo, orange )            \n",
    "carre.show()\n",
    "carre.save(\"exemple_degrade.jpg\")"
   ]
  },
  {
   "cell_type": "markdown",
   "metadata": {},
   "source": [
    "## Partie 1 : calcul sur les écarts de salaire"
   ]
  },
  {
   "cell_type": "markdown",
   "metadata": {},
   "source": [
    "### Exercice 1 : statistiques sur les écarts de salaires\n",
    "\n",
    "On dispose d'un jeu de donnée **Donnees_salaires_horaires.xlsx** qui provient de l'INSEE et qui contient les salaires moyen en France par catégories socio-professionnelles et par age.\n",
    "\n",
    "On peut le charger en utilisant une autre librairie, pandas.\n",
    "\n",
    "Pandas est une librairie qui utilise numpy. Elle permet d'aggréger des jeux de données sous forme de tableau, en mélant différent types de données, et les valeurs numériques sont stockées sous forme de np.array."
   ]
  },
  {
   "cell_type": "code",
   "execution_count": 39,
   "metadata": {
    "collapsed": false
   },
   "outputs": [],
   "source": [
    "salaire_cadre = salaires['Cadres et professions intellectuelles supérieures']"
   ]
  },
  {
   "cell_type": "code",
   "execution_count": 41,
   "metadata": {
    "collapsed": false
   },
   "outputs": [
    {
     "data": {
      "text/plain": [
       "count    12.000000\n",
       "mean     32.816667\n",
       "std      11.243085\n",
       "min      14.300000\n",
       "25%      23.875000\n",
       "50%      34.000000\n",
       "75%      39.425000\n",
       "max      49.900000\n",
       "Name: Cadres et professions intellectuelles supérieures, dtype: float64"
      ]
     },
     "execution_count": 41,
     "metadata": {},
     "output_type": "execute_result"
    }
   ],
   "source": [
    "salaire_cadre.describe()"
   ]
  },
  {
   "cell_type": "code",
   "execution_count": 54,
   "metadata": {
    "collapsed": false
   },
   "outputs": [
    {
     "data": {
      "text/html": [
       "<div>\n",
       "<table border=\"1\" class=\"dataframe\">\n",
       "  <thead>\n",
       "    <tr style=\"text-align: right;\">\n",
       "      <th></th>\n",
       "      <th>Catégorie socioprofessionnelle (5 modalités)</th>\n",
       "      <th>age</th>\n",
       "      <th>Cadres et professions intellectuelles supérieures</th>\n",
       "      <th>Professions intermédiaires</th>\n",
       "      <th>Employés</th>\n",
       "      <th>Ouvriers qualifiés</th>\n",
       "      <th>Ouvriers non qualifiés</th>\n",
       "    </tr>\n",
       "  </thead>\n",
       "  <tbody>\n",
       "    <tr>\n",
       "      <th>0</th>\n",
       "      <td>Moins de 18 ans</td>\n",
       "      <td>16</td>\n",
       "      <td>23.9</td>\n",
       "      <td>13.0</td>\n",
       "      <td>10.2</td>\n",
       "      <td>9.7</td>\n",
       "      <td>9.5</td>\n",
       "    </tr>\n",
       "    <tr>\n",
       "      <th>1</th>\n",
       "      <td>De 18 à 20 ans</td>\n",
       "      <td>19</td>\n",
       "      <td>14.3</td>\n",
       "      <td>12.1</td>\n",
       "      <td>11.0</td>\n",
       "      <td>11.3</td>\n",
       "      <td>11.1</td>\n",
       "    </tr>\n",
       "    <tr>\n",
       "      <th>2</th>\n",
       "      <td>De 21 à 25 ans</td>\n",
       "      <td>23</td>\n",
       "      <td>19.3</td>\n",
       "      <td>14.5</td>\n",
       "      <td>11.7</td>\n",
       "      <td>12.7</td>\n",
       "      <td>11.5</td>\n",
       "    </tr>\n",
       "    <tr>\n",
       "      <th>3</th>\n",
       "      <td>De 26 à 30 ans</td>\n",
       "      <td>28</td>\n",
       "      <td>23.8</td>\n",
       "      <td>16.6</td>\n",
       "      <td>13.0</td>\n",
       "      <td>13.9</td>\n",
       "      <td>12.2</td>\n",
       "    </tr>\n",
       "    <tr>\n",
       "      <th>4</th>\n",
       "      <td>De 31 à 35 ans</td>\n",
       "      <td>33</td>\n",
       "      <td>28.1</td>\n",
       "      <td>18.2</td>\n",
       "      <td>13.9</td>\n",
       "      <td>14.7</td>\n",
       "      <td>12.6</td>\n",
       "    </tr>\n",
       "    <tr>\n",
       "      <th>5</th>\n",
       "      <td>De 36 à 40 ans</td>\n",
       "      <td>38</td>\n",
       "      <td>32.3</td>\n",
       "      <td>19.2</td>\n",
       "      <td>14.3</td>\n",
       "      <td>15.3</td>\n",
       "      <td>12.9</td>\n",
       "    </tr>\n",
       "    <tr>\n",
       "      <th>6</th>\n",
       "      <td>De 41 à 45 ans</td>\n",
       "      <td>43</td>\n",
       "      <td>35.7</td>\n",
       "      <td>20.1</td>\n",
       "      <td>14.5</td>\n",
       "      <td>15.6</td>\n",
       "      <td>13.0</td>\n",
       "    </tr>\n",
       "    <tr>\n",
       "      <th>7</th>\n",
       "      <td>De 46 à 50 ans</td>\n",
       "      <td>48</td>\n",
       "      <td>38.2</td>\n",
       "      <td>20.9</td>\n",
       "      <td>14.7</td>\n",
       "      <td>15.8</td>\n",
       "      <td>13.1</td>\n",
       "    </tr>\n",
       "    <tr>\n",
       "      <th>8</th>\n",
       "      <td>De 51 à 55 ans</td>\n",
       "      <td>53</td>\n",
       "      <td>39.1</td>\n",
       "      <td>21.5</td>\n",
       "      <td>15.0</td>\n",
       "      <td>16.0</td>\n",
       "      <td>13.2</td>\n",
       "    </tr>\n",
       "    <tr>\n",
       "      <th>9</th>\n",
       "      <td>De 56 à 60 ans</td>\n",
       "      <td>58</td>\n",
       "      <td>40.4</td>\n",
       "      <td>22.3</td>\n",
       "      <td>15.6</td>\n",
       "      <td>16.4</td>\n",
       "      <td>13.7</td>\n",
       "    </tr>\n",
       "    <tr>\n",
       "      <th>10</th>\n",
       "      <td>De 61 à 65 ans</td>\n",
       "      <td>63</td>\n",
       "      <td>48.8</td>\n",
       "      <td>23.9</td>\n",
       "      <td>16.2</td>\n",
       "      <td>16.8</td>\n",
       "      <td>14.6</td>\n",
       "    </tr>\n",
       "    <tr>\n",
       "      <th>11</th>\n",
       "      <td>Plus de 65 ans</td>\n",
       "      <td>67</td>\n",
       "      <td>49.9</td>\n",
       "      <td>21.8</td>\n",
       "      <td>15.5</td>\n",
       "      <td>14.6</td>\n",
       "      <td>14.0</td>\n",
       "    </tr>\n",
       "  </tbody>\n",
       "</table>\n",
       "</div>"
      ],
      "text/plain": [
       "   Catégorie socioprofessionnelle (5 modalités)  age  \\\n",
       "0                               Moins de 18 ans   16   \n",
       "1                                De 18 à 20 ans   19   \n",
       "2                                De 21 à 25 ans   23   \n",
       "3                                De 26 à 30 ans   28   \n",
       "4                                De 31 à 35 ans   33   \n",
       "5                                De 36 à 40 ans   38   \n",
       "6                                De 41 à 45 ans   43   \n",
       "7                                De 46 à 50 ans   48   \n",
       "8                                De 51 à 55 ans   53   \n",
       "9                                De 56 à 60 ans   58   \n",
       "10                               De 61 à 65 ans   63   \n",
       "11                               Plus de 65 ans   67   \n",
       "\n",
       "    Cadres et professions intellectuelles supérieures  \\\n",
       "0                                                23.9   \n",
       "1                                                14.3   \n",
       "2                                                19.3   \n",
       "3                                                23.8   \n",
       "4                                                28.1   \n",
       "5                                                32.3   \n",
       "6                                                35.7   \n",
       "7                                                38.2   \n",
       "8                                                39.1   \n",
       "9                                                40.4   \n",
       "10                                               48.8   \n",
       "11                                               49.9   \n",
       "\n",
       "    Professions intermédiaires  Employés  Ouvriers qualifiés  \\\n",
       "0                         13.0      10.2                 9.7   \n",
       "1                         12.1      11.0                11.3   \n",
       "2                         14.5      11.7                12.7   \n",
       "3                         16.6      13.0                13.9   \n",
       "4                         18.2      13.9                14.7   \n",
       "5                         19.2      14.3                15.3   \n",
       "6                         20.1      14.5                15.6   \n",
       "7                         20.9      14.7                15.8   \n",
       "8                         21.5      15.0                16.0   \n",
       "9                         22.3      15.6                16.4   \n",
       "10                        23.9      16.2                16.8   \n",
       "11                        21.8      15.5                14.6   \n",
       "\n",
       "    Ouvriers non qualifiés  \n",
       "0                      9.5  \n",
       "1                     11.1  \n",
       "2                     11.5  \n",
       "3                     12.2  \n",
       "4                     12.6  \n",
       "5                     12.9  \n",
       "6                     13.0  \n",
       "7                     13.1  \n",
       "8                     13.2  \n",
       "9                     13.7  \n",
       "10                    14.6  \n",
       "11                    14.0  "
      ]
     },
     "execution_count": 54,
     "metadata": {},
     "output_type": "execute_result"
    }
   ],
   "source": [
    "import pandas as pd\n",
    "\n",
    "salaires = pd.read_excel( \"Donnees_salaires_horaires.xlsx\" )\n",
    "salaires"
   ]
  },
  {
   "cell_type": "markdown",
   "metadata": {},
   "source": [
    "On peut afficher la liste des colonnes avec l'attribut columns"
   ]
  },
  {
   "cell_type": "code",
   "execution_count": 9,
   "metadata": {
    "collapsed": false
   },
   "outputs": [
    {
     "data": {
      "text/plain": [
       "Index(['Catégorie socioprofessionnelle (5 modalités)', 'age',\n",
       "       'Cadres et professions intellectuelles supérieures',\n",
       "       'Professions intermédiaires', 'Employés', 'Ouvriers qualifiés',\n",
       "       'Ouvriers non qualifiés'],\n",
       "      dtype='object')"
      ]
     },
     "execution_count": 9,
     "metadata": {},
     "output_type": "execute_result"
    }
   ],
   "source": [
    "salaires.columns"
   ]
  },
  {
   "cell_type": "markdown",
   "metadata": {},
   "source": [
    "Et on peut ensuite accéder aux colonnes en utilisant l'opérateur crochet avec l'en tête de la colonne."
   ]
  },
  {
   "cell_type": "code",
   "execution_count": 37,
   "metadata": {
    "collapsed": false
   },
   "outputs": [
    {
     "data": {
      "text/plain": [
       "0     11.64\n",
       "1     13.56\n",
       "2     15.24\n",
       "3     16.68\n",
       "4     17.64\n",
       "5     18.36\n",
       "6     18.72\n",
       "7     18.96\n",
       "8     19.20\n",
       "9     19.68\n",
       "10    20.16\n",
       "11    17.52\n",
       "Name: Ouvriers qualifiés, dtype: float64"
      ]
     },
     "execution_count": 37,
     "metadata": {},
     "output_type": "execute_result"
    }
   ],
   "source": [
    "salaires['Ouvriers qualifiés'] * 1.20"
   ]
  },
  {
   "cell_type": "code",
   "execution_count": 10,
   "metadata": {
    "collapsed": false
   },
   "outputs": [
    {
     "data": {
      "text/plain": [
       "0     23.9\n",
       "1     14.3\n",
       "2     19.3\n",
       "3     23.8\n",
       "4     28.1\n",
       "5     32.3\n",
       "6     35.7\n",
       "7     38.2\n",
       "8     39.1\n",
       "9     40.4\n",
       "10    48.8\n",
       "11    49.9\n",
       "Name: Cadres et professions intellectuelles supérieures, dtype: float64"
      ]
     },
     "execution_count": 10,
     "metadata": {},
     "output_type": "execute_result"
    }
   ],
   "source": [
    "salaires['Cadres et professions intellectuelles supérieures']"
   ]
  },
  {
   "cell_type": "markdown",
   "metadata": {},
   "source": [
    "Et on peut directement effectuer des opérations entre colonnes, ou sur les colonnes.\n",
    "Par exemple pour calculer les min, max, moyenne (mean en anglais) et l'écart type :"
   ]
  },
  {
   "cell_type": "code",
   "execution_count": 11,
   "metadata": {
    "collapsed": false
   },
   "outputs": [
    {
     "name": "stdout",
     "output_type": "stream",
     "text": [
      "32.81666666666666\n",
      "14.3\n",
      "49.9\n",
      "11.243085417133932\n"
     ]
    }
   ],
   "source": [
    "salaires_cadres = salaires['Cadres et professions intellectuelles supérieures']\n",
    "print( salaires_cadres.mean() )\n",
    "print( salaires_cadres.min() )\n",
    "print( salaires_cadres.max() )\n",
    "print( salaires_cadres.std() )"
   ]
  },
  {
   "cell_type": "markdown",
   "metadata": {},
   "source": [
    "Par exemple, si l'on veut obtenir la différence de salaire des cadres par rapport à leur salaire moyen :"
   ]
  },
  {
   "cell_type": "code",
   "execution_count": 12,
   "metadata": {
    "collapsed": false
   },
   "outputs": [
    {
     "data": {
      "text/plain": [
       "0     -8.916667\n",
       "1    -18.516667\n",
       "2    -13.516667\n",
       "3     -9.016667\n",
       "4     -4.716667\n",
       "5     -0.516667\n",
       "6      2.883333\n",
       "7      5.383333\n",
       "8      6.283333\n",
       "9      7.583333\n",
       "10    15.983333\n",
       "11    17.083333\n",
       "Name: Cadres et professions intellectuelles supérieures, dtype: float64"
      ]
     },
     "execution_count": 12,
     "metadata": {},
     "output_type": "execute_result"
    }
   ],
   "source": [
    "salaires_cadres - salaires_cadres.mean()"
   ]
  },
  {
   "cell_type": "markdown",
   "metadata": {},
   "source": [
    "L'objet obtenue étant lui-même une série, sur lequel on peut utiliser les fonctions précédentes :"
   ]
  },
  {
   "cell_type": "code",
   "execution_count": null,
   "metadata": {
    "collapsed": false
   },
   "outputs": [],
   "source": [
    "diff_moyenne_cadre = salaires_cadres - salaires_cadres.mean()\n",
    "print( diff_moyenne_cadre.mean() )\n",
    "print( diff_moyenne_cadre.min() )\n",
    "print( diff_moyenne_cadre.max() )\n",
    "print( diff_moyenne_cadre.std() )"
   ]
  },
  {
   "cell_type": "markdown",
   "metadata": {},
   "source": [
    "A vous de jouer !\n",
    "\n",
    "#### Question 1 : quelle est le salaire moyen des ouvriers qualifiés ? Des ouvriers non qualifiées ?"
   ]
  },
  {
   "cell_type": "code",
   "execution_count": 48,
   "metadata": {
    "collapsed": false
   },
   "outputs": [
    {
     "data": {
      "text/plain": [
       "12.616666666666667"
      ]
     },
     "execution_count": 48,
     "metadata": {},
     "output_type": "execute_result"
    }
   ],
   "source": [
    "salaires['Ouvriers non qualifiés'].mean()"
   ]
  },
  {
   "cell_type": "code",
   "execution_count": 50,
   "metadata": {
    "collapsed": false
   },
   "outputs": [
    {
     "data": {
      "text/plain": [
       "12.616666666666667"
      ]
     },
     "execution_count": 50,
     "metadata": {},
     "output_type": "execute_result"
    }
   ],
   "source": [
    "x"
   ]
  },
  {
   "cell_type": "markdown",
   "metadata": {},
   "source": [
    "#### Question 2 : quelle est la moyenne de la différence de salaire entre un cadre et un ouvrier qualifié ?"
   ]
  },
  {
   "cell_type": "code",
   "execution_count": 52,
   "metadata": {
    "collapsed": false
   },
   "outputs": [
    {
     "name": "stdout",
     "output_type": "stream",
     "text": [
      "0     14.2\n",
      "1      3.0\n",
      "2      6.6\n",
      "3      9.9\n",
      "4     13.4\n",
      "5     17.0\n",
      "6     20.1\n",
      "7     22.4\n",
      "8     23.1\n",
      "9     24.0\n",
      "10    32.0\n",
      "11    35.3\n",
      "dtype: float64\n",
      "18.416666666666668\n"
     ]
    }
   ],
   "source": [
    "diff_salaires = salaires[\n",
    "'Cadres et professions intellectuelles supérieures'] - salaires[\n",
    "'Ouvriers qualifiés'    \n",
    "]\n",
    "print(diff_salaires)\n",
    "print(diff_salaires.mean())"
   ]
  },
  {
   "cell_type": "markdown",
   "metadata": {},
   "source": [
    "#### Question 3 : pour quelle tranche d'âge la différence entre le salaire moyen d'un cadre et celui d'un ouvrier qualifié est-elle le plus important ?"
   ]
  },
  {
   "cell_type": "code",
   "execution_count": 53,
   "metadata": {
    "collapsed": false
   },
   "outputs": [
    {
     "name": "stdout",
     "output_type": "stream",
     "text": [
      "0     14.2\n",
      "1      3.0\n",
      "2      6.6\n",
      "3      9.9\n",
      "4     13.4\n",
      "5     17.0\n",
      "6     20.1\n",
      "7     22.4\n",
      "8     23.1\n",
      "9     24.0\n",
      "10    32.0\n",
      "11    35.3\n",
      "dtype: float64\n"
     ]
    }
   ],
   "source": [
    "print(diff_salaires)"
   ]
  },
  {
   "cell_type": "markdown",
   "metadata": {},
   "source": [
    "#### Question 4 : même question avec le ratio"
   ]
  },
  {
   "cell_type": "code",
   "execution_count": 55,
   "metadata": {
    "collapsed": false
   },
   "outputs": [
    {
     "data": {
      "text/plain": [
       "0     2.463918\n",
       "1     1.265487\n",
       "2     1.519685\n",
       "3     1.712230\n",
       "4     1.911565\n",
       "5     2.111111\n",
       "6     2.288462\n",
       "7     2.417722\n",
       "8     2.443750\n",
       "9     2.463415\n",
       "10    2.904762\n",
       "11    3.417808\n",
       "dtype: float64"
      ]
     },
     "execution_count": 55,
     "metadata": {},
     "output_type": "execute_result"
    }
   ],
   "source": [
    "ratio_salaires = salaires[\n",
    "'Cadres et professions intellectuelles supérieures'] / salaires[\n",
    "'Ouvriers qualifiés'    \n",
    "]\n",
    "ratio_salaires"
   ]
  },
  {
   "cell_type": "markdown",
   "metadata": {},
   "source": [
    "### Exercice 2 : évolution temporelle\n",
    "\n",
    "On s'intéresse maintenant aux différences de salaires au sein d'une même catégorie pour différentes tranches d'ages."
   ]
  },
  {
   "cell_type": "code",
   "execution_count": null,
   "metadata": {
    "collapsed": false
   },
   "outputs": [],
   "source": [
    "diff_salaires = salaires[ salaires.index != 0 ]\n",
    "\n",
    "for it_col in ('Cadres et professions intellectuelles supérieures',\n",
    "               'Professions intermédiaires', \n",
    "               'Employés', \n",
    "               'Ouvriers qualifiés',\n",
    "               'Ouvriers non qualifiés'):\n",
    "    diff_salaires[ it_col ] = salaires[ it_col ].values[1:] - salaires[ it_col ].values[:-1]"
   ]
  },
  {
   "cell_type": "code",
   "execution_count": null,
   "metadata": {
    "collapsed": false
   },
   "outputs": [],
   "source": [
    "diff_salaires"
   ]
  },
  {
   "cell_type": "markdown",
   "metadata": {},
   "source": [
    "A vous de jouer !\n",
    "\n",
    "#### Question 1 : entre quelles tranches d'age la différence de salaire est-elle la plus élevée pour un cadre ? Pour un ouvrier qualifiés ?"
   ]
  },
  {
   "cell_type": "code",
   "execution_count": null,
   "metadata": {
    "collapsed": true
   },
   "outputs": [],
   "source": []
  },
  {
   "cell_type": "markdown",
   "metadata": {},
   "source": [
    "#### Question 2 : en moyenne, quelle est la différence de salaire entre deux tranches d'age pour un cadre ? Pour un ouvrier qualifié ?"
   ]
  },
  {
   "cell_type": "code",
   "execution_count": null,
   "metadata": {
    "collapsed": true
   },
   "outputs": [],
   "source": []
  },
  {
   "cell_type": "markdown",
   "metadata": {},
   "source": [
    "#### Question 3 : comment évolue la différence de salaire entre un cadre et un ouvrier ? Pour quel tranche d'age connaît-elle la plus grosse augmentation ? La plus faible ?"
   ]
  },
  {
   "cell_type": "code",
   "execution_count": null,
   "metadata": {
    "collapsed": true
   },
   "outputs": [],
   "source": []
  },
  {
   "cell_type": "markdown",
   "metadata": {},
   "source": [
    "### Exercice 3 : chargement du jeu de donnée apache\n",
    "\n",
    "Nous disposons d'un jeu de donnée (**log_aggreges.txt.csv**) qui correspond à l'extraction du log apache(**log_aggreges.txt**).\n",
    "\n",
    "Les requêtes sont signalées dans les logs apache de la façon suivante :\n",
    "\n",
    "~~~\n",
    "89.251.55.16 - - [17/Mar/2015:11:23:36 -0400] \"GET / HTTP/1.1\" 200 39665 \"-\" \"Mozilla/5.0 (X11; Ubuntu; Linux x86_64; rv:35.0) Gecko/20100101 Firefox/35.0\"\n",
    "~~~\n",
    "\n",
    "Où les champs correspondent à :\n",
    "\n",
    "- 89.251.55.16 : adresse ip de la requête\n",
    "- [17/Mar/2015:11:23:36 -0400] : la date de la requête\n",
    "- GET / HTTP/1.1 : la requête\n",
    "- 200 : le code de retour (200 = ok, 404 = page not found, etc ...)\n",
    "- 39665 : la taille des données renvoyées\n",
    "- \"-\" : le referer, ce qui peut indiquer l'origine de la requête. Vide ici.\n",
    "- le client \n",
    "\n",
    "Ces données ont été extraites du fichier de log, et mise sous format de tableau dans un fichier csv (ie un fichier excel au format texte).\n",
    "\n"
   ]
  },
  {
   "cell_type": "code",
   "execution_count": 23,
   "metadata": {
    "collapsed": false
   },
   "outputs": [
    {
     "data": {
      "text/html": [
       "<div>\n",
       "<table border=\"1\" class=\"dataframe\">\n",
       "  <thead>\n",
       "    <tr style=\"text-align: right;\">\n",
       "      <th></th>\n",
       "      <th>ip_address</th>\n",
       "      <th>apache_date</th>\n",
       "      <th>apache_tz</th>\n",
       "      <th>request</th>\n",
       "      <th>request_args</th>\n",
       "      <th>HTTP_version</th>\n",
       "      <th>return_code</th>\n",
       "      <th>data_size</th>\n",
       "      <th>referer</th>\n",
       "      <th>client</th>\n",
       "      <th>date</th>\n",
       "      <th>heure</th>\n",
       "    </tr>\n",
       "  </thead>\n",
       "  <tbody>\n",
       "    <tr>\n",
       "      <th>0</th>\n",
       "      <td>89.251.55.16</td>\n",
       "      <td>17/Mar/2015:08:59:34</td>\n",
       "      <td>-400</td>\n",
       "      <td>GET /</td>\n",
       "      <td>NaN</td>\n",
       "      <td>HTTP/1.1</td>\n",
       "      <td>200</td>\n",
       "      <td>39585</td>\n",
       "      <td>-</td>\n",
       "      <td>Mozilla/5.0 (X11, Ubuntu, Linux x86_64, rv:35....</td>\n",
       "      <td>(2015, 3, 17, 8, 59, 34, 1, 76, -1)</td>\n",
       "      <td>8</td>\n",
       "    </tr>\n",
       "    <tr>\n",
       "      <th>1</th>\n",
       "      <td>89.251.55.16</td>\n",
       "      <td>17/Mar/2015:08:59:34</td>\n",
       "      <td>-400</td>\n",
       "      <td>GET /favicon.ico</td>\n",
       "      <td>NaN</td>\n",
       "      <td>HTTP/1.1</td>\n",
       "      <td>404</td>\n",
       "      <td>307</td>\n",
       "      <td>-</td>\n",
       "      <td>Mozilla/5.0 (X11, Ubuntu, Linux x86_64, rv:35....</td>\n",
       "      <td>(2015, 3, 17, 8, 59, 34, 1, 76, -1)</td>\n",
       "      <td>8</td>\n",
       "    </tr>\n",
       "    <tr>\n",
       "      <th>2</th>\n",
       "      <td>10.224.158.6</td>\n",
       "      <td>17/Mar/2015:09:10:29</td>\n",
       "      <td>-400</td>\n",
       "      <td>HEAD /</td>\n",
       "      <td>NaN</td>\n",
       "      <td>HTTP/1.1</td>\n",
       "      <td>200</td>\n",
       "      <td>0</td>\n",
       "      <td>-</td>\n",
       "      <td>Ruby</td>\n",
       "      <td>(2015, 3, 17, 9, 10, 29, 1, 76, -1)</td>\n",
       "      <td>9</td>\n",
       "    </tr>\n",
       "    <tr>\n",
       "      <th>3</th>\n",
       "      <td>10.224.158.6</td>\n",
       "      <td>17/Mar/2015:09:10:30</td>\n",
       "      <td>-400</td>\n",
       "      <td>HEAD /</td>\n",
       "      <td>NaN</td>\n",
       "      <td>HTTP/1.1</td>\n",
       "      <td>200</td>\n",
       "      <td>0</td>\n",
       "      <td>-</td>\n",
       "      <td>Ruby</td>\n",
       "      <td>(2015, 3, 17, 9, 10, 30, 1, 76, -1)</td>\n",
       "      <td>9</td>\n",
       "    </tr>\n",
       "    <tr>\n",
       "      <th>4</th>\n",
       "      <td>10.224.158.6</td>\n",
       "      <td>17/Mar/2015:10:10:47</td>\n",
       "      <td>-400</td>\n",
       "      <td>HEAD /</td>\n",
       "      <td>NaN</td>\n",
       "      <td>HTTP/1.1</td>\n",
       "      <td>200</td>\n",
       "      <td>0</td>\n",
       "      <td>-</td>\n",
       "      <td>Ruby</td>\n",
       "      <td>(2015, 3, 17, 10, 10, 47, 1, 76, -1)</td>\n",
       "      <td>10</td>\n",
       "    </tr>\n",
       "  </tbody>\n",
       "</table>\n",
       "</div>"
      ],
      "text/plain": [
       "     ip_address           apache_date  apache_tz            request  \\\n",
       "0  89.251.55.16  17/Mar/2015:08:59:34       -400             GET /    \n",
       "1  89.251.55.16  17/Mar/2015:08:59:34       -400  GET /favicon.ico    \n",
       "2  10.224.158.6  17/Mar/2015:09:10:29       -400            HEAD /    \n",
       "3  10.224.158.6  17/Mar/2015:09:10:30       -400            HEAD /    \n",
       "4  10.224.158.6  17/Mar/2015:10:10:47       -400            HEAD /    \n",
       "\n",
       "  request_args HTTP_version  return_code  data_size referer  \\\n",
       "0          NaN     HTTP/1.1          200      39585       -   \n",
       "1          NaN     HTTP/1.1          404        307       -   \n",
       "2          NaN     HTTP/1.1          200          0       -   \n",
       "3          NaN     HTTP/1.1          200          0       -   \n",
       "4          NaN     HTTP/1.1          200          0       -   \n",
       "\n",
       "                                              client  \\\n",
       "0  Mozilla/5.0 (X11, Ubuntu, Linux x86_64, rv:35....   \n",
       "1  Mozilla/5.0 (X11, Ubuntu, Linux x86_64, rv:35....   \n",
       "2                                               Ruby   \n",
       "3                                               Ruby   \n",
       "4                                               Ruby   \n",
       "\n",
       "                                   date  heure  \n",
       "0   (2015, 3, 17, 8, 59, 34, 1, 76, -1)      8  \n",
       "1   (2015, 3, 17, 8, 59, 34, 1, 76, -1)      8  \n",
       "2   (2015, 3, 17, 9, 10, 29, 1, 76, -1)      9  \n",
       "3   (2015, 3, 17, 9, 10, 30, 1, 76, -1)      9  \n",
       "4  (2015, 3, 17, 10, 10, 47, 1, 76, -1)     10  "
      ]
     },
     "execution_count": 23,
     "metadata": {},
     "output_type": "execute_result"
    }
   ],
   "source": [
    "import pandas as pd\n",
    "import time\n",
    "import numpy as np\n",
    "\n",
    "## Le chargement du fichier proprement dit, on indique que les colonnes sont \n",
    "## séparées par des ;\n",
    "apache_log_df = pd.read_csv( \"log_aggreges.txt.csv\", sep =\";\" )\n",
    "\n",
    "## Une fonction pour convertir la colonne \"apache_date\" en date manipulable par python\n",
    "apache_log_df[\"date\"] = apache_log_df[\"apache_date\"].apply( \n",
    "    lambda apache_date_format: time.strptime(apache_date_format, \"%d/%b/%Y:%H:%M:%S\") \n",
    "     )\n",
    "\n",
    "## Une fonction pour convertir la colonne \"apache_date\" en date manipulable par python\n",
    "apache_log_df[\"data_size\"] = apache_log_df[\"data_size\"].replace(\"-\",\"0\").astype(np.int64)\n",
    "\n",
    "## Une fonction pour extraire l'heure\n",
    "apache_log_df[\"heure\"] = apache_log_df[\"date\"].apply( lambda x:x.tm_hour )\n",
    "\n",
    "## On peut maintenant avoir un aperçu de ce tableau, avec la fonction head qui permet\n",
    "## de renvoyer les n premières lignes.\n",
    "apache_log_df.head(5)"
   ]
  },
  {
   "cell_type": "markdown",
   "metadata": {},
   "source": [
    "On peut ensuite sélectionner des informations avec la notation suivante (par exemple pour connaître les codes retours des requêtes de type HEAD /)\n",
    "\n",
    "D'abord on veut connaître les différentes requêtes, et vérifier les histoires d'espace dans le nom."
   ]
  },
  {
   "cell_type": "code",
   "execution_count": null,
   "metadata": {
    "collapsed": false
   },
   "outputs": [],
   "source": [
    "apache_log_df['request'].unique()"
   ]
  },
  {
   "cell_type": "markdown",
   "metadata": {},
   "source": [
    "Maintenant, on veut connaître les différents code de retour pour les requêtes :"
   ]
  },
  {
   "cell_type": "code",
   "execution_count": null,
   "metadata": {
    "collapsed": false
   },
   "outputs": [],
   "source": [
    "apache_log_df[ apache_log_df['request'] == 'HEAD / ']['return_code'].value_counts()"
   ]
  },
  {
   "cell_type": "markdown",
   "metadata": {},
   "source": [
    "On peut faire une boucle sur les colonnes afin d'avoir un aperçu de chacune."
   ]
  },
  {
   "cell_type": "code",
   "execution_count": 56,
   "metadata": {
    "collapsed": false
   },
   "outputs": [
    {
     "name": "stdout",
     "output_type": "stream",
     "text": [
      "####################\n",
      "Colonne ip_address\n",
      "####################\n",
      "object\n",
      "89.251.55.16      5176\n",
      "109.28.107.201    4958\n",
      "90.43.145.240      619\n",
      "90.62.29.192       529\n",
      "90.62.21.70        485\n",
      "Name: ip_address, dtype: int64\n",
      "####################\n",
      "Colonne apache_date\n",
      "####################\n",
      "object\n",
      "19/Mar/2015:18:55:18    25\n",
      "19/Mar/2015:18:55:17    23\n",
      "22/Mar/2015:15:03:57    21\n",
      "23/Mar/2015:23:18:37    19\n",
      "23/Mar/2015:23:22:25    18\n",
      "Name: apache_date, dtype: int64\n",
      "####################\n",
      "Colonne apache_tz\n",
      "####################\n",
      "int64\n",
      "-400    16205\n",
      "Name: apache_tz, dtype: int64\n",
      "####################\n",
      "Colonne request\n",
      "####################\n",
      "object\n",
      "GET /shifumi.php                     3641\n",
      "GET /nombres_premiers.php            3271\n",
      "HEAD /shifumi.php                    3035\n",
      "HEAD /                               2122\n",
      "GET /big_brother_is_watching_you     1197\n",
      "Name: request, dtype: int64\n",
      "####################\n",
      "Colonne request_args\n",
      "####################\n",
      "object\n",
      "?nb=5000&min_value=100000     1165\n",
      "?hand=ciseaux&name=Xavier      830\n",
      "?hand=ciseaux&name=john        783\n",
      "?hand=pierre&name=Pierre       739\n",
      "?hand=pierre&name=Athur        716\n",
      "Name: request_args, dtype: int64\n",
      "####################\n",
      "Colonne HTTP_version\n",
      "####################\n",
      "object\n",
      "HTTP/1.1    16205\n",
      "Name: HTTP_version, dtype: int64\n",
      "####################\n",
      "Colonne return_code\n",
      "####################\n",
      "int64\n",
      "200    12797\n",
      "404     2731\n",
      "500      636\n",
      "304       41\n",
      "Name: return_code, dtype: int64\n",
      "####################\n",
      "Colonne data_size\n",
      "####################\n",
      "int64\n",
      "0      5621\n",
      "318     994\n",
      "307     393\n",
      "51      380\n",
      "313     376\n",
      "Name: data_size, dtype: int64\n",
      "####################\n",
      "Colonne referer\n",
      "####################\n",
      "object\n",
      "-                                                          15144\n",
      "http://php-oturbev1.rhcloud.com/                             493\n",
      "http://php-formdorianarthur.rhcloud.com/jouerContre.php      242\n",
      "http://php-oturbev1.rhcloud.com/historique.php               127\n",
      "http://php-formdorianarthur.rhcloud.com/                      74\n",
      "Name: referer, dtype: int64\n",
      "####################\n",
      "Colonne client\n",
      "####################\n",
      "object\n",
      "Python-urllib/3.4                                                                                                           4903\n",
      "curl/7.35.0                                                                                                                 3260\n",
      "Ruby                                                                                                                        2121\n",
      "Mozilla/5.0 (Macintosh, Intel Mac OS X 10_10_2) AppleWebKit/537.36 (KHTML, like Gecko) Chrome/41.0.2272.89 Safari/537.36    1120\n",
      "Mozilla/5.0 (Macintosh, Intel Mac OS X 10_10_2) AppleWebKit/600.4.10 (KHTML, like Gecko) Version/8.0.4 Safari/600.4.10       804\n",
      "Name: client, dtype: int64\n",
      "####################\n",
      "Colonne date\n",
      "####################\n",
      "object\n",
      "(2015, 3, 19, 18, 55, 18, 3, 78, -1)    25\n",
      "(2015, 3, 19, 18, 55, 17, 3, 78, -1)    23\n",
      "(2015, 3, 22, 15, 3, 57, 6, 81, -1)     21\n",
      "(2015, 3, 23, 23, 18, 37, 0, 82, -1)    19\n",
      "(2015, 3, 23, 23, 22, 25, 0, 82, -1)    18\n",
      "Name: date, dtype: int64\n",
      "####################\n",
      "Colonne heure\n",
      "####################\n",
      "int64\n",
      "4    4292\n",
      "6    1152\n",
      "3     930\n",
      "0     787\n",
      "1     780\n",
      "Name: heure, dtype: int64\n"
     ]
    }
   ],
   "source": [
    "for it_col in apache_log_df.columns:\n",
    "    print(\"#\"*20)\n",
    "    print(\"Colonne\", it_col)\n",
    "    print(\"#\"*20)\n",
    "    print( apache_log_df[it_col].dtypes )\n",
    "    print( apache_log_df[it_col].value_counts().head(5) )"
   ]
  },
  {
   "cell_type": "markdown",
   "metadata": {},
   "source": [
    "A noter qu'il existe une méthode **describe()** pour avoir un résumé des colonnes.  \n",
    "Pour les valeurs non numériques elle indique le nombre de valeurs, le nombre de valeur unique, la valeur unique la plus fréquente et son nombre d'occurrences."
   ]
  },
  {
   "cell_type": "code",
   "execution_count": 1,
   "metadata": {
    "collapsed": false
   },
   "outputs": [
    {
     "ename": "NameError",
     "evalue": "name 'apache_log_df' is not defined",
     "output_type": "error",
     "traceback": [
      "\u001b[1;31m---------------------------------------------------------------------------\u001b[0m",
      "\u001b[1;31mNameError\u001b[0m                                 Traceback (most recent call last)",
      "\u001b[1;32m<ipython-input-1-51b3a57fed03>\u001b[0m in \u001b[0;36m<module>\u001b[1;34m()\u001b[0m\n\u001b[1;32m----> 1\u001b[1;33m \u001b[0mprint\u001b[0m\u001b[1;33m(\u001b[0m \u001b[0mapache_log_df\u001b[0m\u001b[1;33m[\u001b[0m\u001b[1;34m\"date\"\u001b[0m\u001b[1;33m]\u001b[0m\u001b[1;33m.\u001b[0m\u001b[0mdescribe\u001b[0m\u001b[1;33m(\u001b[0m\u001b[1;33m)\u001b[0m \u001b[1;33m)\u001b[0m\u001b[1;33m\u001b[0m\u001b[0m\n\u001b[0m",
      "\u001b[1;31mNameError\u001b[0m: name 'apache_log_df' is not defined"
     ]
    }
   ],
   "source": [
    "print( apache_log_df[\"date\"].describe() )"
   ]
  },
  {
   "cell_type": "markdown",
   "metadata": {},
   "source": [
    "Pour une valeur numérique, celle-ci indiquera le nombre de valeur, la moyenne, l'écart type, le minimum, le maximum et 5 quartiles (0, 25%, 50%, 75%, 100%)."
   ]
  },
  {
   "cell_type": "code",
   "execution_count": 44,
   "metadata": {
    "collapsed": false
   },
   "outputs": [
    {
     "name": "stdout",
     "output_type": "stream",
     "text": [
      "count    1.620500e+04\n",
      "mean     2.308460e+05\n",
      "std      6.992402e+06\n",
      "min      0.000000e+00\n",
      "25%      0.000000e+00\n",
      "50%      1.120000e+02\n",
      "75%      3.150000e+02\n",
      "max      5.082245e+08\n",
      "Name: data_size, dtype: float64\n"
     ]
    }
   ],
   "source": [
    "print( apache_log_df[\"data_size\"].describe() )"
   ]
  },
  {
   "cell_type": "code",
   "execution_count": 25,
   "metadata": {
    "collapsed": false
   },
   "outputs": [
    {
     "data": {
      "text/plain": [
       "GET /shifumi.php                                                          3641\n",
       "GET /nombres_premiers.php                                                 3271\n",
       "HEAD /shifumi.php                                                         3035\n",
       "HEAD /                                                                    2122\n",
       "GET /big_brother_is_watching_you                                          1197\n",
       "GET /                                                                      502\n",
       "GET /check_death.php                                                       258\n",
       "GET /historique.php                                                        248\n",
       "GET /nombres_premiers                                                      225\n",
       "GET /shifumi.php/                                                          220\n",
       "GET /display_log.php                                                       177\n",
       "GET /shifumi.php                                                           162\n",
       "GET /boucle_infini.php                                                     143\n",
       "GET /favicon.ico                                                           102\n",
       "GET /nombre_premier.php/                                                    95\n",
       "GET /test.php/                                                              82\n",
       "GET /chart.min.js                                                           79\n",
       "GET /nombres_premiers.php                                                   65\n",
       "GET /demon.php                                                              62\n",
       "GET /revive.php                                                             56\n",
       "GET /Chart.js                                                               48\n",
       "GET /nombrepremier.php                                                      48\n",
       "GET /jouerContre.php                                                        43\n",
       "GET /test.php                                                               40\n",
       "GET /nbpremier.php                                                          26\n",
       "POST /shifumi.php                                                           24\n",
       "GET /2.php                                                                  22\n",
       "GET /nombre_premier.php                                                     19\n",
       "GET /displaylog.php                                                         15\n",
       "GET /prof_msg_could_not_find_boucle_infini.php                              14\n",
       "                                                                          ... \n",
       "GET /apple-touch-icon.png                                                    2\n",
       "GET /                                                                        2\n",
       "GET /apple-touch-icon-precomposed.png                                        2\n",
       "GET /nombes_premiers                                                         2\n",
       "GET /robots.txt                                                              2\n",
       "GET /nombres_premiers.nb=500&min_value=100000                                1\n",
       "GET /nombrepremier.php                                                       1\n",
       "GET /revive                                                                  1\n",
       "GET /shufumi                                                                 1\n",
       "GET /var/lib/openshift/55082178e0b8cdab1200011c/app-root/logs/php.log        1\n",
       "GET /nombres_premier.php                                                     1\n",
       "GET /broker/rest/api                                                         1\n",
       "GET /browserconfig.xml                                                       1\n",
       "GET /var                                                                     1\n",
       "GET /model.php                                                               1\n",
       "GET /shifumi                                                                 1\n",
       "GET /boucleinfini*                                                           1\n",
       "GET /nombre_premier                                                          1\n",
       "GET /phpmyadmin.php                                                          1\n",
       "GET /phpdavid/index                                                          1\n",
       "GET /display-log.php                                                         1\n",
       "GET /test                                                                    1\n",
       "GET /a                                                                       1\n",
       "GET /index.html                                                              1\n",
       "GET /tp3                                                                     1\n",
       "GET /boucleinfini.php                                                        1\n",
       "GET /diplay_log.php                                                          1\n",
       "GET /nbpremiers                                                              1\n",
       "GET /tp3/index.php                                                           1\n",
       "GET /nombre_premier.php/                                                     1\n",
       "Name: request, dtype: int64"
      ]
     },
     "execution_count": 25,
     "metadata": {},
     "output_type": "execute_result"
    }
   ],
   "source": [
    "apache_log_df['request'].value_counts()"
   ]
  },
  {
   "cell_type": "markdown",
   "metadata": {},
   "source": [
    "A vous de jouer !\n",
    "\n",
    "#### Question 1 : à quelle heure le site connaît-il le plus d'activité ?"
   ]
  },
  {
   "cell_type": "code",
   "execution_count": null,
   "metadata": {
    "collapsed": false
   },
   "outputs": [],
   "source": []
  },
  {
   "cell_type": "markdown",
   "metadata": {
    "collapsed": true
   },
   "source": [
    "#### Question 2 : quelle est la requête qui a le plus de code d'erreur 500 ? Celle qui en a le moins ?"
   ]
  },
  {
   "cell_type": "code",
   "execution_count": null,
   "metadata": {
    "collapsed": true
   },
   "outputs": [],
   "source": []
  },
  {
   "cell_type": "markdown",
   "metadata": {},
   "source": [
    "#### Question 3 : pour quelle valeur des paramètres la quantité de données envoyée est-elle la plus importante ?"
   ]
  },
  {
   "cell_type": "code",
   "execution_count": null,
   "metadata": {
    "collapsed": true
   },
   "outputs": [],
   "source": []
  }
 ],
 "metadata": {
  "kernelspec": {
   "display_name": "Python 3",
   "language": "python",
   "name": "python3"
  },
  "language_info": {
   "codemirror_mode": {
    "name": "ipython",
    "version": 3
   },
   "file_extension": ".py",
   "mimetype": "text/x-python",
   "name": "python",
   "nbconvert_exporter": "python",
   "pygments_lexer": "ipython3",
   "version": "3.4.4"
  }
 },
 "nbformat": 4,
 "nbformat_minor": 0
}
