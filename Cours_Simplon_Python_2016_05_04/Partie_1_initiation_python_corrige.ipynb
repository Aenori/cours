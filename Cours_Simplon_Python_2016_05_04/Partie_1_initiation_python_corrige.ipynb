{
 "cells": [
  {
   "cell_type": "markdown",
   "metadata": {},
   "source": [
    "# Partie 1 - initiation (avancée) à python\n",
    "\n",
    "Nous allons revenir sur quelques points du python.\n",
    "\n",
    "Ce qu'il faut retenir en quelques mots du python :\n",
    "\n",
    "1. Il s'agit d'un langage à typage dynamique. On ne précise donc jamais le type d'une variable, que cela soit au moment de la déclaration, en argument d'une fonction, ou comme retour. Une fonction peut très bien ne pas toujours renvoyer le même type (mais c'est fortement déconseillé)\n",
    "1. On utilise peu de classes, beaucoup moins que dans Java, par exemple.\n",
    "1. L'indentation a un sens syntaxique, elle permet de définir les blocs de code, elle remplace les accolades utilisées dans d'autre langages.\n",
    "1. On utilise beaucoup les types de base, tuple (), listes [] et dictionnaire {}, ou alors des types définies dans certaines bibliothèques (que nous verrons ensuite).\n",
    "\n",
    "A noter que les notebooks jupyter possède quelques fonctionnalités intéressantes, notamment l'auto-complétion (touche tabulation) qui permet de limiter les fautes de frappes."
   ]
  },
  {
   "cell_type": "markdown",
   "metadata": {},
   "source": [
    "### Exercice 1 : maximum d'une liste\n",
    "\n",
    "Ecrire une fonction **maximum** qui prend en argument une liste et renvoit son maximum.  \n",
    "A noter que le nom est important pour les tests automatiques."
   ]
  },
  {
   "cell_type": "code",
   "execution_count": 4,
   "metadata": {
    "collapsed": false
   },
   "outputs": [
    {
     "name": "stderr",
     "output_type": "stream",
     "text": [
      "test_code (test_simplon.TestExercice1) ... ok\n",
      "test_fonction (test_simplon.TestExercice1) ... ok\n",
      "\n",
      "----------------------------------------------------------------------\n",
      "Ran 2 tests in 0.003s\n",
      "\n",
      "OK\n"
     ]
    }
   ],
   "source": [
    "## Insérez votre code ici\n",
    "def maximum( liste ):\n",
    "    maxi = liste[0]\n",
    "    for it in liste:\n",
    "        if it > maxi:\n",
    "            maxi = it\n",
    "    return maxi\n",
    "\n",
    "## Ne pas modifier les lignes suivantes\n",
    "import test_simplon\n",
    "test_simplon.tester_exo( '1', globals() )"
   ]
  },
  {
   "cell_type": "markdown",
   "metadata": {},
   "source": [
    "Vous pouvez éventuellement tester votre code avec l'exemple suivant, qui doit afficher 10."
   ]
  },
  {
   "cell_type": "code",
   "execution_count": null,
   "metadata": {
    "collapsed": true
   },
   "outputs": [],
   "source": [
    "maximum( [10,8,6,4,2,0] )"
   ]
  },
  {
   "cell_type": "markdown",
   "metadata": {},
   "source": [
    "### Exercice 2 : index du maximum d'une liste\n",
    "\n",
    "Ecrire une fonction **index_maximum** qui prend en argument une liste et renvoit l'index de son maximum, ie sa position dans la liste (0 pour le premier élément, 1 pour le second).  \n",
    "A noter que le nom est important pour les tests automatiques."
   ]
  },
  {
   "cell_type": "code",
   "execution_count": 1,
   "metadata": {
    "collapsed": false
   },
   "outputs": [
    {
     "name": "stderr",
     "output_type": "stream",
     "text": [
      "test_code (test_simplon.TestExercice2) ... ok\n",
      "test_fonction (test_simplon.TestExercice2) ... ok\n",
      "\n",
      "----------------------------------------------------------------------\n",
      "Ran 2 tests in 0.002s\n",
      "\n",
      "OK\n"
     ]
    }
   ],
   "source": [
    "## Insérez votre code ici\n",
    "def index_maximum( liste ):\n",
    "    index_maxi = 0\n",
    "    for it in range(len(liste)):\n",
    "        if liste[ it ] > liste[ index_maxi ]:\n",
    "            index_maxi = it\n",
    "    return index_maxi\n",
    "\n",
    "## Ne pas modifier les lignes suivantes\n",
    "import test_simplon\n",
    "test_simplon.tester_exo( '2', globals() )"
   ]
  },
  {
   "cell_type": "markdown",
   "metadata": {},
   "source": [
    "Vous pouvez éventuellement tester votre code avec l'exemple suivant, qui doit afficher 1."
   ]
  },
  {
   "cell_type": "code",
   "execution_count": 2,
   "metadata": {
    "collapsed": false
   },
   "outputs": [
    {
     "data": {
      "text/plain": [
       "1"
      ]
     },
     "execution_count": 2,
     "metadata": {},
     "output_type": "execute_result"
    }
   ],
   "source": [
    "index_maximum( [9,10,8,7,6,5,4,1,2,0,3] )"
   ]
  },
  {
   "cell_type": "markdown",
   "metadata": {},
   "source": [
    "### Exercice 3 : extraire plus grand que\n",
    "\n",
    "Ecrire une fonction **extraire_plus_grand_que** qui prend en argument une liste, un nombre et renvoit une liste constituée de tous les éléments **strictement plus grand** que le nombre donné en argument.  \n",
    "\n",
    "Par exemple :\n",
    "\n",
    "~~~\n",
    "extraire_plus_grand_que( [1,2,3,4,5,6]    ,  3 ) ## renvoit   [4,5,6]\n",
    "extraire_plus_grand_que( [8,7,6,5,4,3,2,1],  4 ) ## renvoit [8,7,6,5]\n",
    "extraire_plus_grand_que( [22,18,14,10,6]  , 14 ) ## renvoit [22,18]\n",
    "~~~\n",
    "\n",
    "Pour rappel on crée une liste vide avec les notations suivante :\n",
    "\n",
    "~~~\n",
    "liste_vide = []\n",
    "## ou\n",
    "liste_vide = list()\n",
    "~~~\n",
    "\n",
    "Et on peut ajouter un élément à une liste avec la méthode append\n",
    "\n",
    "~~~\n",
    "liste_vide.append( 1 )\n",
    "~~~"
   ]
  },
  {
   "cell_type": "code",
   "execution_count": 1,
   "metadata": {
    "collapsed": false
   },
   "outputs": [
    {
     "name": "stderr",
     "output_type": "stream",
     "text": [
      "test_code (test_simplon.TestExercice3) ... ok\n",
      "test_fonction (test_simplon.TestExercice3) ... ok\n",
      "\n",
      "----------------------------------------------------------------------\n",
      "Ran 2 tests in 0.003s\n",
      "\n",
      "OK\n"
     ]
    }
   ],
   "source": [
    "## Insérez votre code ici\n",
    "def extraire_plus_grand_que( liste, n ):\n",
    "    res = []\n",
    "    for it in liste:\n",
    "        if it > n:\n",
    "            res.append( it )\n",
    "    return res\n",
    "\n",
    "## Ne pas modifier les lignes suivantes\n",
    "import test_simplon\n",
    "test_simplon.tester_exo( '3', globals() )"
   ]
  },
  {
   "cell_type": "markdown",
   "metadata": {},
   "source": [
    "Vous pouvez éventuellement tester votre code avec l'exemple suivant, qui doit afficher [8,7,6,5]."
   ]
  },
  {
   "cell_type": "code",
   "execution_count": 2,
   "metadata": {
    "collapsed": false
   },
   "outputs": [
    {
     "data": {
      "text/plain": [
       "[8, 7, 6, 5]"
      ]
     },
     "execution_count": 2,
     "metadata": {},
     "output_type": "execute_result"
    }
   ],
   "source": [
    "extraire_plus_grand_que( [8,7,6,5,4,3,2,1],  4 ) ## renvoit [8,7,6,5]"
   ]
  },
  {
   "cell_type": "markdown",
   "metadata": {},
   "source": [
    "### Exercice 4 : génération code html\n",
    "\n",
    "Ecrire une fonction **generer_liste_html** qui prend en entrée une liste et génère un code html correspondant, avec les balises \n",
    "\n",
    "~~~\n",
    "<ui>\n",
    "<li>\n",
    "~~~ \n",
    "\n",
    "Par exemple :\n",
    "\n",
    "~~~\n",
    "generer_liste_html( [\"Vimes\", \"Rincevent\", \"Harry King\", \"Death\", \"Vetinari\"] )\n",
    "## renvoit \n",
    "<ui>\n",
    "    <li>\"Vimes\"</li>\n",
    "    <li>\"Rincevent\"</li>\n",
    "    <li>\"Harry King\"</li>\n",
    "    <li>\"Death\"</li>\n",
    "    <li>\"Vetinari\"</li>\n",
    "<ui>\n",
    "~~~\n",
    "\n",
    "Pour les manipulations de chaine de caractère on rappelera les principes suivants :\n",
    "\n",
    "- Les chaines de caractères en python ne sont pas modifiables\n",
    "- On peut utiliser indifféremment les délimiteurs '' ou \"\" pour les chaînes de caractère. Utiliser l'un permet d'utiliser l'autre comme caractère simple.\n",
    "- Les façons les plus classiques de les manipuler consistent à utiliser l'addition pour créer de nouvelles chaines\n",
    "- Les deux fonctions usuelles les plus utiles sont str(...) (conversions en chaîne de caractère) et join( ... ) qui s'utilisent ainsi\n",
    "\n",
    "~~~\n",
    "s = \",\".join([\"Chat\", \"Chien\", \"Ours\"])\n",
    "## s vaut \"Chat,Chien,Ours\"\n",
    "~~~\n",
    "\n",
    "- On peut aussi utiliser la fonction format, qui s'utilise ainsi\n",
    "\n",
    "~~~\n",
    "s = \"<ui><li>{0}</li><li>{1}</li></ui>\".format( \"Jean\", \"Jacques\" )\n",
    "## s vaut \"<ui><li>Jean</li><li>Jacques</li></ui>\"\n",
    "~~~\n",
    "\n",
    "A noter que les tests ne tiennent pas compte des espaces et des retours à la ligne."
   ]
  },
  {
   "cell_type": "code",
   "execution_count": 1,
   "metadata": {
    "collapsed": false
   },
   "outputs": [
    {
     "name": "stderr",
     "output_type": "stream",
     "text": [
      "test_1 (test_simplon.TestExercice4) ... ok\n",
      "\n",
      "----------------------------------------------------------------------\n",
      "Ran 1 test in 0.001s\n",
      "\n",
      "OK\n"
     ]
    }
   ],
   "source": [
    "## Insérez votre code ici\n",
    "def generer_liste_html( liste ):\n",
    "    s = \"<ui>\\n\" + \"\".join(\"\\t<li>{0}</li>\\n\".format(it) for it in liste) + \"</ui>\"\n",
    "    return s\n",
    "\n",
    "## Ne pas modifier les lignes suivantes\n",
    "import test_simplon\n",
    "test_simplon.tester_exo( '4', globals() )"
   ]
  },
  {
   "cell_type": "markdown",
   "metadata": {},
   "source": [
    "Vous pouvez tester votre code avec la cellule suivante, qui doit afficher quelque chose du type :\n",
    "\n",
    "~~~\n",
    "<ui>\n",
    "\t<li>Vimes</li>\n",
    "\t<li>Rincevent</li>\n",
    "\t<li>Harry King</li>\n",
    "\t<li>Death</li>\n",
    "\t<li>Vetinari</li>\n",
    "</ui>\n",
    "~~~"
   ]
  },
  {
   "cell_type": "code",
   "execution_count": 7,
   "metadata": {
    "collapsed": false
   },
   "outputs": [
    {
     "name": "stdout",
     "output_type": "stream",
     "text": [
      "<ui>\n",
      "\t<li>Vimes</li>\n",
      "\t<li>Rincevent</li>\n",
      "\t<li>Harry King</li>\n",
      "\t<li>Death</li>\n",
      "\t<li>Vetinari</li>\n",
      "</ui>\n"
     ]
    }
   ],
   "source": [
    "print( generer_liste_html( [\"Vimes\", \"Rincevent\", \"Harry King\", \"Death\", \"Vetinari\"] ) )"
   ]
  },
  {
   "cell_type": "markdown",
   "metadata": {},
   "source": [
    "### Exercice 5 : génération code html - plus\n",
    "\n",
    "Ecrire une fonction **generer_table_html** qui prend en entrée une liste, et une liste de liste et génère un code html correspondant à une table, avec les balises. \n",
    "\n",
    "~~~\n",
    "<table>\n",
    "<td>\n",
    "<tr>\n",
    "~~~ \n",
    "\n",
    "On pourra considérer par exemple que la première liste correspondant aux noms des élèves et la deuxième à leur note\n",
    "Par exemple :\n",
    "\n",
    "~~~\n",
    "generer_table_html( [\"Jean\",\"Pierre\",\"Marc\"], [[10,12,14],[11,9,8]] )\n",
    "## renvoit \n",
    "<table>\n",
    "    <tr>\n",
    "        <td>Jean</td>\n",
    "        <td>Pierre</td>\n",
    "        <td>Marc</td>\n",
    "    </tr>\n",
    "    <tr>\n",
    "        <td>10</td>\n",
    "        <td>12</td>\n",
    "        <td>14</td>\n",
    "    </tr>\n",
    "    <tr>\n",
    "        <td>11</td>\n",
    "        <td>9</td>\n",
    "        <td>8</td>\n",
    "    </tr>\n",
    "<ui>\n",
    "~~~"
   ]
  },
  {
   "cell_type": "code",
   "execution_count": 4,
   "metadata": {
    "collapsed": true
   },
   "outputs": [],
   "source": [
    "def generer_ligne_table_html( liste ):\n",
    "    s = \"\\t<tr>\\n\" + \"\".join(\"\\t\\t<td>{0}</td>\\n\".format(it) for it in liste) + \"\\t</tr>\\n\"\n",
    "    return s\n",
    "\n",
    "def generer_table_html( liste, tableau ):\n",
    "    s =  \"<table>\\n\" \n",
    "    s += generer_ligne_table_html(liste)\n",
    "    for it_line in tableau:\n",
    "        s += generer_ligne_table_html(it_line)\n",
    "    return s + \"\\n</table>\""
   ]
  },
  {
   "cell_type": "markdown",
   "metadata": {},
   "source": [
    "Vous pouvez tester votre code avec la cellule suivante, qui doit afficher quelque chose du type :\n",
    "\n",
    "~~~\n",
    "<table>\n",
    "    <tr>\n",
    "        <td>Jean</td>\n",
    "        <td>Pierre</td>\n",
    "        <td>Marc</td>\n",
    "    </tr>\n",
    "    <tr>\n",
    "        <td>10</td>\n",
    "        <td>12</td>\n",
    "        <td>14</td>\n",
    "    </tr>\n",
    "    <tr>\n",
    "        <td>11</td>\n",
    "        <td>9</td>\n",
    "        <td>8</td>\n",
    "    </tr>\n",
    "<ui>\n",
    "~~~"
   ]
  },
  {
   "cell_type": "code",
   "execution_count": 6,
   "metadata": {
    "collapsed": false
   },
   "outputs": [
    {
     "name": "stdout",
     "output_type": "stream",
     "text": [
      "<table>\n",
      "\t<tr>\n",
      "\t\t<td>Jean</td>\n",
      "\t\t<td>Pierre</td>\n",
      "\t\t<td>Marc</td>\n",
      "\t</tr>\n",
      "\t<tr>\n",
      "\t\t<td>10</td>\n",
      "\t\t<td>12</td>\n",
      "\t\t<td>14</td>\n",
      "\t</tr>\n",
      "\t<tr>\n",
      "\t\t<td>11</td>\n",
      "\t\t<td>9</td>\n",
      "\t\t<td>8</td>\n",
      "\t</tr>\n",
      "\n",
      "</table>\n"
     ]
    }
   ],
   "source": [
    "print( generer_table_html( [\"Jean\",\"Pierre\",\"Marc\"], [[10,12,14],[11,9,8]] ) )"
   ]
  },
  {
   "cell_type": "code",
   "execution_count": null,
   "metadata": {
    "collapsed": true
   },
   "outputs": [],
   "source": []
  }
 ],
 "metadata": {
  "kernelspec": {
   "display_name": "Python 3",
   "language": "python",
   "name": "python3"
  },
  "language_info": {
   "codemirror_mode": {
    "name": "ipython",
    "version": 3
   },
   "file_extension": ".py",
   "mimetype": "text/x-python",
   "name": "python",
   "nbconvert_exporter": "python",
   "pygments_lexer": "ipython3",
   "version": "3.4.4"
  }
 },
 "nbformat": 4,
 "nbformat_minor": 0
}
