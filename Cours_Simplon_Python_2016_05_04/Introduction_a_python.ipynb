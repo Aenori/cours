{
 "cells": [
  {
   "cell_type": "markdown",
   "metadata": {},
   "source": [
    "# Présentation de python\n",
    "\n",
    "## Que peut-on faire avec python ??\n",
    "\n",
    "Tout ... et surtout n'importe quoi.\n",
    "Python est un langage où à peu près TOUT est modifiable, et le typage dynamique (ce qui signifie qu'il n'y a aucune garantie ...)"
   ]
  },
  {
   "cell_type": "code",
   "execution_count": null,
   "metadata": {
    "collapsed": false
   },
   "outputs": [],
   "source": [
    "import math\n",
    "print( math.pi )\n",
    "r = 2\n",
    "print( \"L'aire du cercle est\", math.pi*r**2 )"
   ]
  },
  {
   "cell_type": "code",
   "execution_count": null,
   "metadata": {
    "collapsed": true
   },
   "outputs": [],
   "source": [
    "import math\n",
    "math.pi = \"Anoia, déesse des ustensiles qui se coincent dans les tiroirs.\\n\""
   ]
  },
  {
   "cell_type": "markdown",
   "metadata": {},
   "source": [
    "Cela peut toutefois être particulièrement pratique lorsque l'on veut personnaliser le comportement d'une librairie externe, ou de sa propre librairie, ce que l'on peut faire sans modifier le code."
   ]
  },
  {
   "cell_type": "code",
   "execution_count": null,
   "metadata": {
    "collapsed": true
   },
   "outputs": [],
   "source": [
    "import math\n",
    "if not hasattr( math, \"true_cos\"):\n",
    "    math.true_cos = math.cos\n",
    "\n",
    "def cos_with_logging(x):\n",
    "    print(\"Calculating cos({0})\".format(x))\n",
    "    return math.true_cos(x)\n",
    "\n",
    "math.cos = cos_with_logging"
   ]
  },
  {
   "cell_type": "code",
   "execution_count": null,
   "metadata": {
    "collapsed": false
   },
   "outputs": [],
   "source": [
    "import math\n",
    "a = math.cos(15)"
   ]
  },
  {
   "cell_type": "code",
   "execution_count": null,
   "metadata": {
    "collapsed": false
   },
   "outputs": [],
   "source": [
    "animal = \"chat\"\n",
    "print( animal[0][0][0][0][0][0][0][0] )"
   ]
  },
  {
   "cell_type": "code",
   "execution_count": null,
   "metadata": {
    "collapsed": false
   },
   "outputs": [],
   "source": [
    "def tri_liste( l ):\n",
    "    return sorted(l)\n",
    "\n",
    "print( tri_liste( [\"Viterani\",\"Vimes\",\"Bashfull Bashfullson\"] ))"
   ]
  },
  {
   "cell_type": "code",
   "execution_count": null,
   "metadata": {
    "collapsed": false
   },
   "outputs": [],
   "source": [
    "print( tri_liste( [\"Viterani\"] ))"
   ]
  },
  {
   "cell_type": "code",
   "execution_count": null,
   "metadata": {
    "collapsed": false
   },
   "outputs": [],
   "source": [
    "print( tri_liste( \"Viterani\" ))"
   ]
  },
  {
   "cell_type": "code",
   "execution_count": null,
   "metadata": {
    "collapsed": true
   },
   "outputs": [],
   "source": [
    "def f():\n",
    "    print( hogfather.sun_rising )"
   ]
  },
  {
   "cell_type": "code",
   "execution_count": null,
   "metadata": {
    "collapsed": false
   },
   "outputs": [],
   "source": [
    "f()"
   ]
  },
  {
   "cell_type": "code",
   "execution_count": null,
   "metadata": {
    "collapsed": false
   },
   "outputs": [],
   "source": [
    "name1 = input(\"Object name :\")\n",
    "name2 = input(\"Attr name :\")\n",
    "\n",
    "class MyClass:\n",
    "    pass\n",
    "\n",
    "import sys\n",
    "this_module = sys.modules[__name__]\n",
    "no = MyClass()\n",
    "\n",
    "setattr( this_module, name1, no )\n",
    "setattr( no, name2, \"Mister Thunderbolt, advocate\" )"
   ]
  },
  {
   "cell_type": "markdown",
   "metadata": {},
   "source": [
    "A retenir : python est un langage interprété, à typage dynamique où la cohérence du code est complètement la responsabilité du développeur.\n",
    "\n",
    "On ne fera pas de l'objet en python de la même façon qu'en java.\n",
    "\n",
    "En python, il faut TOUT tester ... ce qui est souvent une bonne chose.\n",
    "\n",
    "Pour que le code soit testable il faut qu'il soit modulaire, avec des entrées et des sorties bien définies, ce qui est plutôt un avantage.\n",
    "De plus, cela force souvent à avoir des interfaces réduites, ce qui simplifie considérablement le code.\n",
    "\n",
    "Par exemple un fichier en python est simplement un objet doté d'une méthode write. Un web service est simplement une fonction (protocole WSGI)."
   ]
  },
  {
   "cell_type": "code",
   "execution_count": null,
   "metadata": {
    "collapsed": true
   },
   "outputs": [],
   "source": []
  }
 ],
 "metadata": {
  "kernelspec": {
   "display_name": "Python 3",
   "language": "python",
   "name": "python3"
  },
  "language_info": {
   "codemirror_mode": {
    "name": "ipython",
    "version": 3
   },
   "file_extension": ".py",
   "mimetype": "text/x-python",
   "name": "python",
   "nbconvert_exporter": "python",
   "pygments_lexer": "ipython3",
   "version": "3.4.4"
  }
 },
 "nbformat": 4,
 "nbformat_minor": 0
}
