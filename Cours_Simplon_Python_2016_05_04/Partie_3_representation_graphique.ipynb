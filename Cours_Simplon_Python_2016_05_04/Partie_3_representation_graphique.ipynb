{
 "cells": [
  {
   "cell_type": "markdown",
   "metadata": {
    "collapsed": true
   },
   "source": [
    "# Représentation graphique\n",
    "\n",
    "Nous allons parler ici un petit peu de représentation graphique, à partir du jeu de donnée de log apache (que nous pouvons charger en mémoire à l'aide de la cellule suivante) :"
   ]
  },
  {
   "cell_type": "code",
   "execution_count": null,
   "metadata": {
    "collapsed": false
   },
   "outputs": [],
   "source": [
    "import pandas as pd\n",
    "import numpy as np\n",
    "import time\n",
    "\n",
    "## Le chargement du fichier proprement dit, on indique que les colonnes sont \n",
    "## séparées par des ;\n",
    "apache_log_df = pd.read_csv( \"log_aggreges.txt.csv\", sep =\";\" )\n",
    "\n",
    "## Une fonction pour convertir la colonne \"apache_date\" en date manipulable par python\n",
    "apache_log_df[\"date\"] = apache_log_df[\"apache_date\"].apply( \n",
    "    lambda apache_date_format: time.strptime(apache_date_format, \"%d/%b/%Y:%H:%M:%S\") \n",
    "     )\n",
    "\n",
    "## Une fonction pour convertir la colonne \"apache_date\" en date manipulable par python\n",
    "apache_log_df[\"data_size\"] = apache_log_df[\"data_size\"].replace(\"-\",\"0\").astype(np.int64)\n",
    "\n",
    "## Une fonction pour extraire l'heure\n",
    "apache_log_df[\"heure\"] = apache_log_df[\"date\"].apply( lambda x:x.tm_hour )\n",
    "apache_log_df[\"date_heure\"] = apache_log_df[\"date\"].apply( lambda x:(x.tm_mday, x.tm_hour ) )\n",
    "\n",
    "## On peut maintenant avoir un aperçu de ce tableau, avec la fonction head qui permet\n",
    "## de renvoyer les n premières lignes.\n",
    "apache_log_df.head(5)"
   ]
  },
  {
   "cell_type": "markdown",
   "metadata": {},
   "source": [
    "Et nous allons chercher ici à le représenter graphiquement.\n",
    "La représentation graphique à deux objectifs:\n",
    "\n",
    "- faciliter la représentation mentale\n",
    "- faciliter la communication\n",
    "\n",
    "La librairie utilisée en python pour faire de la représentation graphique est matplotlib.  \n",
    "A noter qu'elle peut également être utilisée pour faire des animations.  \n",
    "\n",
    "Vous pouvez trouver de nombreux exemples ici :\n",
    "\n",
    "http://matplotlib.org/gallery.html\n",
    "\n",
    "Dans l'ensemble, tracer des graphiques consiste essentiellement à choisir ce que vous voulez mettre en abscisse, ce que vous voulez mettre en ordonnée, et le type de graphique (courbe, histogramme, courbe 3d, surface, etc ...)\n",
    "\n",
    "Par exemple pour tracer une courbe, vous pourrez utiliser le code suivant :"
   ]
  },
  {
   "cell_type": "code",
   "execution_count": null,
   "metadata": {
    "collapsed": true
   },
   "outputs": [],
   "source": [
    "import numpy as np\n",
    "import matplotlib.pyplot as plt\n",
    "\n",
    "x = np.linspace(0, 10)\n",
    "plt.plot(x, np.sin(x), color = 'r', label = \"sin(x)\")\n",
    "plt.plot(x, np.cos(x), color = 'g', label = \"cos(x)\")\n",
    "\n",
    "plt.legend()\n",
    "plt.show()"
   ]
  },
  {
   "cell_type": "markdown",
   "metadata": {},
   "source": [
    "Petite explication, la fonction linspace fournit un étalonnage d'un espace, par défaut 50 points, à partir des bornes. Donc linspace(0,10) fournit 50 points equidistant, compris entre 0 et 10 (les deux bornes étant incluses)"
   ]
  },
  {
   "cell_type": "code",
   "execution_count": null,
   "metadata": {
    "collapsed": false
   },
   "outputs": [],
   "source": [
    "print( len(np.linspace(0, 10)) )\n",
    "print( np.linspace(0, 10) )"
   ]
  },
  {
   "cell_type": "markdown",
   "metadata": {},
   "source": [
    "On utilise la fonction sin de np, plutôt que celle de la librairie standard math, car celle-ci supporte les calculs vectoriels (i.e. on calcule le sinus d'une liste, et on obtient une liste des sinus des éléments). Cela évite de faire des boucles"
   ]
  },
  {
   "cell_type": "markdown",
   "metadata": {},
   "source": [
    "### Exercice 1\n",
    "\n",
    "A partir de l'exemple ci-dessus, tracer la courbe de la fonction $ f: x \\to x^2 $  \n",
    "entre -5 et 5."
   ]
  },
  {
   "cell_type": "code",
   "execution_count": null,
   "metadata": {
    "collapsed": true
   },
   "outputs": [],
   "source": [
    "import numpy as np\n",
    "import matplotlib.pyplot as plt\n",
    "\n"
   ]
  },
  {
   "cell_type": "markdown",
   "metadata": {},
   "source": [
    "Bien entendu, l'objet n'est pas seulement de tracer des fonctions mathématiques usuelles.  \n",
    "On peut par exemple tracer la courbe de l'affluence d'un site en fonction de l'heure."
   ]
  },
  {
   "cell_type": "code",
   "execution_count": null,
   "metadata": {
    "collapsed": true
   },
   "outputs": [],
   "source": [
    "import numpy as np\n",
    "import matplotlib.pyplot as plt\n",
    "\n",
    "## On récupère le nombre de requête par heure\n",
    "nb_requete_par_heure = apache_log_df['heure'].value_counts()\n",
    "\n",
    "plt.plot(nb_requete_par_heure.index, \n",
    "         nb_requete_par_heure.values, \n",
    "         label = \"Nb requete par heure\")\n",
    "\n",
    "plt.legend()\n",
    "plt.show()"
   ]
  },
  {
   "cell_type": "markdown",
   "metadata": {},
   "source": [
    "Le résultat n'est pas très satisfaisant, car si les valeurs sont bonnes, l'ordre des valeurs dans l'objet nb_requete_par_heure n'est pas le bon.\n",
    "\n",
    "On va donc rajouter une étape de tri."
   ]
  },
  {
   "cell_type": "code",
   "execution_count": null,
   "metadata": {
    "collapsed": false
   },
   "outputs": [],
   "source": [
    "import numpy as np\n",
    "import matplotlib.pyplot as plt\n",
    "\n",
    "## On récupère le nombre de requête par heure\n",
    "nb_requete_par_heure = sorted( apache_log_df['heure'].value_counts().items() )\n",
    "\n",
    "## On trie les heures, et on arrange le \n",
    "heures     = [it[0] for it in nb_requete_par_heure]\n",
    "nb_requete = [it[1] for it in nb_requete_par_heure]\n",
    "\n",
    "\n",
    "plt.plot(heures, nb_requete, label = \"Nb requete par heure\")\n",
    "\n",
    "plt.legend()\n",
    "plt.show()\n"
   ]
  },
  {
   "cell_type": "markdown",
   "metadata": {},
   "source": [
    "## Exercice 2\n",
    "\n",
    "Faite de même par rapport à la colonne \"date_heure\", qui contient la date et l'heure."
   ]
  },
  {
   "cell_type": "code",
   "execution_count": null,
   "metadata": {
    "collapsed": false
   },
   "outputs": [],
   "source": [
    "import numpy as np\n",
    "import matplotlib.pyplot as plt\n",
    "\n",
    "## On récupère le nombre de requête par heure\n",
    "nb_requete_par_heure = sorted( apache_log_df['date_heure'].value_counts().items() )\n",
    "\n",
    "## On trie les heures, et on arrange le \n",
    "heures      = [it[0][0]*24 + it[0][1] for it in nb_requete_par_heure]\n",
    "heures_as_s = [\"{0}:{1}\".format( it[0][0], it[0][1] ) for it in nb_requete_par_heure]\n",
    "nb_requete  = [it[1] for it in nb_requete_par_heure]\n",
    "\n",
    "\n",
    "plt.plot(heures, nb_requete, label = \"Nb requete par heure\")\n",
    "plt.xticks(heures, heures_as_s, rotation='vertical')\n",
    "\n",
    "plt.legend()\n",
    "plt.show()"
   ]
  },
  {
   "cell_type": "markdown",
   "metadata": {},
   "source": [
    "## Exercice 3\n",
    "\n",
    "On va s'intéresser maintenant à un autre type de graphique, les diagrammes, pour les cas où tracer une courbe n'a pas vraiment de sens (par exemple les code de retour).\n",
    "\n",
    "On peut avoir un résumé des codes de retours ainsi :"
   ]
  },
  {
   "cell_type": "code",
   "execution_count": null,
   "metadata": {
    "collapsed": false
   },
   "outputs": [],
   "source": [
    "apache_log_df[\"return_code\"].value_counts()"
   ]
  },
  {
   "cell_type": "code",
   "execution_count": null,
   "metadata": {
    "collapsed": false
   },
   "outputs": [],
   "source": [
    "\n",
    "import numpy as np\n",
    "import matplotlib.pyplot as plt\n",
    "\n",
    "return_code_values = apache_log_df[\"return_code\"].value_counts()\n",
    "n_groups = len(return_code_values)\n",
    "\n",
    "fig, ax = plt.subplots()\n",
    "\n",
    "index = np.arange(n_groups)\n",
    "bar_width = 0.35\n",
    "rects1 = plt.bar(index + bar_width/2, return_code_values.values, bar_width)\n",
    "\n",
    "plt.xlabel('Return code')\n",
    "plt.ylabel('Nombre')\n",
    "plt.title('Nb return code')\n",
    "plt.xticks(index + bar_width, return_code_values.index )\n",
    "plt.legend()\n",
    "\n",
    "plt.tight_layout()\n",
    "plt.show()"
   ]
  },
  {
   "cell_type": "markdown",
   "metadata": {},
   "source": [
    "A vous de jouer !\n",
    "\n",
    "Essayer maintenant de faire la même chose pour les adresses ip."
   ]
  },
  {
   "cell_type": "code",
   "execution_count": null,
   "metadata": {
    "collapsed": true
   },
   "outputs": [],
   "source": []
  },
  {
   "cell_type": "markdown",
   "metadata": {},
   "source": [
    "## Exercice 4\n",
    "\n",
    "On va maintenant s'intéresser à un différent type de graphique, les histogrammes.  \n",
    "Dans ce cas là, on cherche à représenter une distribution, c'est à dire que l'on a pas un ensemble de clé / valeur comme pour les courbes ou les barres, mais un ensemble de valeurs, dont on souhaite analyser la distribution. Dans notre cas, on va commencer par la taille des données de réponse."
   ]
  },
  {
   "cell_type": "code",
   "execution_count": null,
   "metadata": {
    "collapsed": true
   },
   "outputs": [],
   "source": [
    "import numpy as np\n",
    "import matplotlib.mlab as mlab\n",
    "import matplotlib.pyplot as plt\n",
    "\n",
    "num_bins = 50\n",
    "# the histogram of the data\n",
    "n, bins, patches = plt.hist(apache_log_df[\"data_size\"], \n",
    "                            num_bins, normed=1, \n",
    "                            facecolor='green', \n",
    "                            alpha=0.5)\n",
    "# add a 'best fit' line\n",
    "plt.xlabel('Data size')\n",
    "plt.ylabel('Probability')\n",
    "plt.title('Répartition des taille de donnée')\n",
    "\n",
    "# Tweak spacing to prevent clipping of ylabel\n",
    "plt.subplots_adjust(left=0.15)\n",
    "plt.show()\n",
    "\n"
   ]
  },
  {
   "cell_type": "markdown",
   "metadata": {},
   "source": [
    "Pas terrible, hein ? De fait, on a un certain nombre de requête dont la taille des données n'est pas disponible, mais surtout beaucoup de requête très grosse comme le témoigne la commande suivante :"
   ]
  },
  {
   "cell_type": "code",
   "execution_count": null,
   "metadata": {
    "collapsed": false
   },
   "outputs": [],
   "source": [
    "apache_log_df[\"data_size\"].value_counts()"
   ]
  },
  {
   "cell_type": "markdown",
   "metadata": {},
   "source": [
    "Comme l'histogramme cherche à faire des parties de largeur égale, les très grosses requête provoque une distorsion. On va donc chercher à enlever les 1% de requêtes les plus importantes :"
   ]
  },
  {
   "cell_type": "code",
   "execution_count": null,
   "metadata": {
    "collapsed": false
   },
   "outputs": [],
   "source": [
    "sorted_data_size = sorted( apache_log_df[\"data_size\"] )\n",
    "dernier_decile = sorted_data_size[ 9*len(sorted_data_size) // 10 ]\n",
    "print( dernier_decile )"
   ]
  },
  {
   "cell_type": "code",
   "execution_count": null,
   "metadata": {
    "collapsed": false
   },
   "outputs": [],
   "source": [
    "import numpy as np\n",
    "import matplotlib.mlab as mlab\n",
    "import matplotlib.pyplot as plt\n",
    "\n",
    "normed_data_size = apache_log_df[\"data_size\"]\n",
    "normed_data_size[ apache_log_df[\"data_size\"] > dernier_decile] = dernier_decile\n",
    "\n",
    "num_bins = 50\n",
    "# the histogram of the data\n",
    "n, bins, patches = plt.hist(normed_data_size, \n",
    "                            num_bins, normed=1, \n",
    "                            facecolor='green', \n",
    "                            alpha=0.5)\n",
    "# add a 'best fit' line\n",
    "plt.xlabel('Data size')\n",
    "plt.ylabel('Probability')\n",
    "plt.title('Répartition des taille de donnée')\n",
    "\n",
    "# Tweak spacing to prevent clipping of ylabel\n",
    "plt.subplots_adjust(left=0.15)\n",
    "plt.show()"
   ]
  },
  {
   "cell_type": "code",
   "execution_count": null,
   "metadata": {
    "collapsed": true
   },
   "outputs": [],
   "source": []
  }
 ],
 "metadata": {
  "kernelspec": {
   "display_name": "Python 3",
   "language": "python",
   "name": "python3"
  },
  "language_info": {
   "codemirror_mode": {
    "name": "ipython",
    "version": 3
   },
   "file_extension": ".py",
   "mimetype": "text/x-python",
   "name": "python",
   "nbconvert_exporter": "python",
   "pygments_lexer": "ipython3",
   "version": "3.4.4"
  }
 },
 "nbformat": 4,
 "nbformat_minor": 0
}
