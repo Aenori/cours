{
 "cells": [
  {
   "cell_type": "markdown",
   "metadata": {},
   "source": [
    "# TD n°3 : première prise en main de python"
   ]
  },
  {
   "cell_type": "markdown",
   "metadata": {},
   "source": [
    "## Partie 1 - exemples\n",
    "\n",
    "Il n'y a pas de question, juste des exemples issus du TD précédent."
   ]
  },
  {
   "cell_type": "markdown",
   "metadata": {},
   "source": [
    "### Exemple n°1 - somme des nombres de 1 jusqu'à n\n"
   ]
  },
  {
   "cell_type": "code",
   "execution_count": null,
   "metadata": {
    "collapsed": false
   },
   "outputs": [],
   "source": [
    "n = 100 ## Donnée d'entrée\n",
    "\n",
    "def somme_1(n):\n",
    "    res = 0\n",
    "    i = 0\n",
    "    while i <= n:     \n",
    "        res = res + i \n",
    "        i = i + 1     \n",
    "    return n\n",
    "\n",
    "def somme_2(n):\n",
    "    return n*(n+1)//2\n",
    "\n",
    "print( \"Somme des nombres de 1 à 10 : \" , somme_2(10) )\n",
    "print( \"Somme des nombres de 1 à 100 : \", somme_2(100) )"
   ]
  },
  {
   "cell_type": "markdown",
   "metadata": {},
   "source": [
    "### Exemple n°2 - calcul de racine cubique "
   ]
  },
  {
   "cell_type": "code",
   "execution_count": null,
   "metadata": {
    "collapsed": false
   },
   "outputs": [],
   "source": [
    "def racine_cubique_1(x):\n",
    "    y = 0\n",
    "    while y*y*y < x: ## ligne 5\n",
    "        y = y + 0.001\n",
    "    return y\n",
    "\n",
    "print( \"La racine cubique de   8 est \", racine_cubique_1(8) )\n",
    "print( \"La racine cubique de  27 est \", racine_cubique_1(27) )\n",
    "print( \"La racine cubique de 512 est \", racine_cubique_1(512) )"
   ]
  },
  {
   "cell_type": "markdown",
   "metadata": {},
   "source": [
    "### Exemple n°3 - calcul de racine "
   ]
  },
  {
   "cell_type": "code",
   "execution_count": null,
   "metadata": {
    "collapsed": false
   },
   "outputs": [],
   "source": [
    "a = -4 ## Donnée d'entrée\n",
    "b = 0 ## Donnée d'entrée\n",
    "c = 1 ## Donnée d'entrée\n",
    "\n",
    "import math\n",
    "\n",
    "def calcul_discriminant(a,b,c):\n",
    "    return b*b - 4*a*c\n",
    "\n",
    "def nombre_de_solution(a,b,c):\n",
    "    d = calcul_discriminant(a,b,c)\n",
    "    if d > 0:\n",
    "        return 2\n",
    "    elif d < 0:\n",
    "        return 0\n",
    "    return 1\n",
    "\n",
    "def solution_1(a,b,c):\n",
    "    d = calcul_discriminant(a,b,c)\n",
    "    return (-b + math.sqrt(d))/(2*a)\n",
    "   \n",
    "def solution_2(a,b,c):\n",
    "    d = calcul_discriminant(a,b,c)\n",
    "    return (-b - math.sqrt(d))/(2*a)\n",
    "\n",
    "def affiche_solutions(a,b,c):\n",
    "    nb_solution = nombre_de_solution(a,b,c)\n",
    "\n",
    "    if nb_solution == 0:\n",
    "        print( \"Il n'y a pas de solution !\")\n",
    "    elif nb_solution == 1:\n",
    "        print( \"Il y a une seule solution:\")\n",
    "        print( solution_1(a,b,c) ) ## Attention, ici a, b, c sont les valeurs des variables\n",
    "            ## passées en argument de \"affiche_solutions\". Elles sont données comme valeur \n",
    "            ## aux variables équivalentes dans solution_1\n",
    "    elif nb_solution == 2:\n",
    "        print( \"Il y a deux solutions:\")\n",
    "        print( solution_1(a,b,c) )\n",
    "        print( solution_2(a,b,c) )\n",
    "    \n",
    "print( \"Pour X**2 + 2*X + 1 :\")\n",
    "affiche_solutions(1,2,1)\n",
    "print( \"##############\")\n",
    "print( \"Pour X**2 + 1 :\")\n",
    "affiche_solutions(1,0,1)\n",
    "print( \"##############\")\n",
    "print( \"Pour X**2 + 2*X - 48 :\")\n",
    "affiche_solutions(1,2,-48)\n",
    "print( \"##############\")"
   ]
  },
  {
   "cell_type": "markdown",
   "metadata": {},
   "source": [
    "### Exemple n°4 - vérifier si un nombre est premier"
   ]
  },
  {
   "cell_type": "code",
   "execution_count": null,
   "metadata": {
    "collapsed": false
   },
   "outputs": [],
   "source": [
    "n = 13 ## Donnée d'entrée\n",
    "\n",
    "def est_premier(n):\n",
    "    if n < 2:\n",
    "        return False\n",
    "    k = 2\n",
    "    while k**2 <= n:\n",
    "        if n % k == 0:\n",
    "            return False\n",
    "        k = k + 1\n",
    "    return True\n",
    "\n",
    "def affiche_est_premier(n):\n",
    "    if est_premier(n):\n",
    "        print(n, \"est premier\")\n",
    "    else:\n",
    "        print(n, \"n'est pas premier\")\n",
    "        \n",
    "for it in range(15): ## range(15) est un ensemble de 15 valeurs, de 0 à 14\n",
    "                     ## it prendra toutes les valeurs de cet ensemble\n",
    "    affiche_est_premier(it)"
   ]
  },
  {
   "cell_type": "markdown",
   "metadata": {},
   "source": [
    "## Partie 2 : code\n",
    "\n",
    "**Important !!** les cellules sont munies d'autotest. Pour que ceux-ci fonctionnent, vous devez exécutez la cellule ci-dessous :"
   ]
  },
  {
   "cell_type": "code",
   "execution_count": null,
   "metadata": {
    "collapsed": true
   },
   "outputs": [],
   "source": [
    "import binascii\n",
    "\n",
    "test_notebook_td_3_content = b'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'\n",
    "cours_python_utils_content = b'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'\n",
    "\n",
    "with open( 'test_notebook_td_3.py', 'wb' ) as f:\n",
    "    f.write( binascii.unhexlify(test_notebook_td_3_content)  )\n",
    "with open( 'cours_python_utils.py', 'wb' ) as f:\n",
    "    f.write( binascii.unhexlify(cours_python_utils_content)  )"
   ]
  },
  {
   "cell_type": "markdown",
   "metadata": {},
   "source": [
    "### Exercice n°0 : Fonction hello world !\n",
    "\n",
    "**Cet exercice doit fonction tel quel !**\n",
    "\n",
    "Ecrire une fonction **hello_world** qui renvoit exactement \"Hello world !\".  "
   ]
  },
  {
   "cell_type": "code",
   "execution_count": null,
   "metadata": {
    "collapsed": false
   },
   "outputs": [],
   "source": [
    "## Exercice 2-0\n",
    "def hello_world():\n",
    "     return \"Hello world !\"\n",
    "\n",
    "try:\n",
    "    import test_notebook_td_3\n",
    "    test_notebook_td_3.tester_exo( '0', globals() )\n",
    "except ImportError:\n",
    "    print(\"Vous devez exécutez la cellule en début de partie 2 \" + \n",
    "          \"celle mentionnée comme nécessaire aux tests unitaires\" )\n",
    "    raise\n",
    "except Exception as e:\n",
    "    print(\"Une erreur assez étrange est arrivée, essayer de redémarrer le serveur \" + \n",
    "          \"ou demandez au prof\")\n",
    "    raise"
   ]
  },
  {
   "cell_type": "markdown",
   "metadata": {},
   "source": [
    "**Exemple :** à l'exécution de la cellule ci-dessous, elle doit afficher \"Hello world !\""
   ]
  },
  {
   "cell_type": "code",
   "execution_count": null,
   "metadata": {
    "collapsed": false
   },
   "outputs": [],
   "source": [
    "print(hello_world())"
   ]
  },
  {
   "cell_type": "markdown",
   "metadata": {},
   "source": [
    "### Exercice n°1 : Fonction un "
   ]
  },
  {
   "cell_type": "markdown",
   "metadata": {},
   "source": [
    "Ecrire une fonction **un** qui ne prend pas d'argument et renvoit 1.  \n",
    "La fonction **print** est interdite."
   ]
  },
  {
   "cell_type": "code",
   "execution_count": null,
   "metadata": {
    "collapsed": false
   },
   "outputs": [],
   "source": [
    "## Exercice 2-1\n",
    "def un():\n",
    "    return 1\n",
    "\n",
    "## Ne pas modifier les lignes suivantes\n",
    "import test_notebook_td_3\n",
    "test_notebook_td_3.tester_exo( '2_1', globals() )"
   ]
  },
  {
   "cell_type": "markdown",
   "metadata": {},
   "source": [
    "**Exemple :** à l'exécution de la cellule ci-dessous, elle doit afficher 1"
   ]
  },
  {
   "cell_type": "code",
   "execution_count": null,
   "metadata": {
    "collapsed": false
   },
   "outputs": [],
   "source": [
    "print(un())"
   ]
  },
  {
   "cell_type": "markdown",
   "metadata": {},
   "source": [
    "### Exercice n°2 : Fonction incremente\n",
    "\n",
    "Ecrire une fonction **incremente** qui prends un argument et renvoit la valeur de cet argument + 1.  \n",
    "La fonction **print** est interdite."
   ]
  },
  {
   "cell_type": "code",
   "execution_count": null,
   "metadata": {
    "collapsed": false
   },
   "outputs": [],
   "source": [
    "## Exercice 2-2\n",
    "def incremente( n ):\n",
    "    return n+1\n",
    "\n",
    "## Ne pas modifier les lignes suivantes\n",
    "import test_notebook_td_3\n",
    "test_notebook_td_3.tester_exo( '2_2', globals() )"
   ]
  },
  {
   "cell_type": "markdown",
   "metadata": {},
   "source": [
    "**Exemple 1 :** à l'exécution de la cellule ci-dessous, elle doit afficher 1"
   ]
  },
  {
   "cell_type": "code",
   "execution_count": null,
   "metadata": {
    "collapsed": false
   },
   "outputs": [],
   "source": [
    "print(incremente(0))"
   ]
  },
  {
   "cell_type": "markdown",
   "metadata": {},
   "source": [
    "**Exemple 2 :** à l'exécution de la cellule ci-dessous, elle doit afficher 10"
   ]
  },
  {
   "cell_type": "code",
   "execution_count": null,
   "metadata": {
    "collapsed": false
   },
   "outputs": [],
   "source": [
    "print(incremente(9))"
   ]
  },
  {
   "cell_type": "markdown",
   "metadata": {},
   "source": [
    "### Exercice n°3 : Fonction somme\n",
    "\n",
    "Ecrire une fonction **somme** qui prends deux arguments et renvoit la somme de ces arguments.  \n",
    "La fonction **print** est interdite."
   ]
  },
  {
   "cell_type": "code",
   "execution_count": null,
   "metadata": {
    "collapsed": false
   },
   "outputs": [],
   "source": [
    "## Exercice 2-3\n",
    "def somme(x,y):\n",
    "    return x + y\n",
    "\n",
    "## Ne pas modifier les lignes suivantes\n",
    "import test_notebook_td_3\n",
    "test_notebook_td_3.tester_exo( '2_3', globals() )"
   ]
  },
  {
   "cell_type": "markdown",
   "metadata": {},
   "source": [
    "**Exemple 1 :** à l'exécution de la cellule ci-dessous, elle doit afficher 42"
   ]
  },
  {
   "cell_type": "code",
   "execution_count": null,
   "metadata": {
    "collapsed": false
   },
   "outputs": [],
   "source": [
    "print( somme(21,21) )"
   ]
  },
  {
   "cell_type": "markdown",
   "metadata": {},
   "source": [
    "**Exemple 2 :** à l'exécution de la cellule ci-dessous, elle doit afficher 'Ca marche !'"
   ]
  },
  {
   "cell_type": "code",
   "execution_count": null,
   "metadata": {
    "collapsed": false
   },
   "outputs": [],
   "source": [
    "print( repr( somme(\"Ca \",\"marche !\") ) )"
   ]
  },
  {
   "cell_type": "markdown",
   "metadata": {},
   "source": [
    "### Exercice n°4 : Evaluation de polynome\n",
    "\n",
    "Ecrire une fonction **evaluation_polynome** qui prend quatre arguments a, b, c et x renvoit :\n",
    "\n",
    "$a*x^2 + b*x + c$"
   ]
  },
  {
   "cell_type": "code",
   "execution_count": null,
   "metadata": {
    "collapsed": false
   },
   "outputs": [],
   "source": [
    "## Exercice 2-4\n",
    "def evaluation_polynome(a,b,c,x):\n",
    "    return a*x**2 + b*x + c\n",
    "\n",
    "## Ne pas modifier les lignes suivantes\n",
    "import test_notebook_td_3\n",
    "test_notebook_td_3.tester_exo( '2_4', globals() )"
   ]
  },
  {
   "cell_type": "markdown",
   "metadata": {},
   "source": [
    "**Exemple 1 :** à l'exécution de la cellule ci-dessous, elle doit afficher 42"
   ]
  },
  {
   "cell_type": "code",
   "execution_count": null,
   "metadata": {
    "collapsed": false
   },
   "outputs": [],
   "source": [
    "print( evaluation_polynome(1,2,42,0) )"
   ]
  },
  {
   "cell_type": "markdown",
   "metadata": {},
   "source": [
    "**Exemple 2 :** à l'exécution de la cellule ci-dessous, elle doit afficher 101"
   ]
  },
  {
   "cell_type": "code",
   "execution_count": null,
   "metadata": {
    "collapsed": false
   },
   "outputs": [],
   "source": [
    "print( evaluation_polynome(1,0,1,10) )"
   ]
  },
  {
   "cell_type": "markdown",
   "metadata": {},
   "source": [
    "**Exemple 3 :** à l'exécution de la cellule ci-dessous, elle doit afficher 4 résultats sur 4 lignes :  \n",
    "2  \n",
    "9  \n",
    "24  \n",
    "47  \n",
    "Qui correspondent aux valeurs du polynome $4X^2+3X+2$ pour X valant 0, 1, 2 et 3  "
   ]
  },
  {
   "cell_type": "code",
   "execution_count": null,
   "metadata": {
    "collapsed": false
   },
   "outputs": [],
   "source": [
    "for it in range(4):\n",
    "    print( evaluation_polynome(4,3,2,it) )"
   ]
  },
  {
   "cell_type": "markdown",
   "metadata": {},
   "source": [
    "### Exercice n°5 : Fonction est_pair\n",
    "\n",
    "Ecrire une fonction **est_pair** qui prend un argument et renvoit la valeur booléenne **True** (que vous entrez telle quelle dans python) si l'argument est pair, **False** sinon.\n",
    "\n",
    "Pour rappel, on peut vérifier le reste de la division d'un nombre par un autre avec la syntaxe :\n",
    "\n",
    "~~~\n",
    "reste = n % x ## reste prendra comme valeur le reste de la division de n par x\n",
    "~~~\n",
    "\n",
    "Contrainte supplémentaire : vous n'avez pas le droit d'utiliser **else** ni **elif**, et pas plus d'un **if**"
   ]
  },
  {
   "cell_type": "code",
   "execution_count": null,
   "metadata": {
    "collapsed": false
   },
   "outputs": [],
   "source": [
    "## Exercice 2-5\n",
    "def est_pair(n):\n",
    "    if n % 2 == 0:\n",
    "        return True\n",
    "    return False\n",
    "\n",
    "def est_pair(n):\n",
    "    return n % 2 == 0\n",
    "\n",
    "## Ne pas modifier les lignes suivantes\n",
    "import test_notebook_td_3\n",
    "test_notebook_td_3.tester_exo( '2_5', globals() )"
   ]
  },
  {
   "cell_type": "markdown",
   "metadata": {},
   "source": [
    "**Exemple 1 :** à l'exécution de la cellule ci-dessous, elle doit afficher True"
   ]
  },
  {
   "cell_type": "code",
   "execution_count": null,
   "metadata": {
    "collapsed": false
   },
   "outputs": [],
   "source": [
    "est_pair(2)"
   ]
  },
  {
   "cell_type": "markdown",
   "metadata": {},
   "source": [
    "**Exemple 2 :** à l'exécution de la cellule ci-dessous, elle doit afficher False"
   ]
  },
  {
   "cell_type": "code",
   "execution_count": null,
   "metadata": {
    "collapsed": false
   },
   "outputs": [],
   "source": [
    "est_pair(1)"
   ]
  },
  {
   "cell_type": "markdown",
   "metadata": {},
   "source": [
    "### Exercice n°6 : Fonction factorielle\n",
    "\n",
    "Ecrire une fonction factorielle, qui prend un argument (par exemple n, mais le nom n'a pas d'importance) et calcule le produit des nombres de 1 à n.\n",
    "  \n",
    "Par exemple \n",
    "\n",
    "~~~\n",
    "factorielle(6)   ## renvoit 1 * 2 * 3 * 4 * 5 * 6 \n",
    "factorielle(999) ## renvoit 1 * 2 * 3 * 4 * 5 * ... * 997 * 998 * 999\n",
    "factorielle(0)   ## renvoit 1, là c'est une convention \n",
    "~~~  \n",
    "\n",
    "Pour rappel, pour faire prendre à une variable it toutes les valeurs de 1 à 999, on peut utiliser la syntaxe :\n",
    "  \n",
    "~~~\n",
    "for it in range(1, 1000):\n",
    "~~~\n",
    "\n",
    "Ou une boucle while:\n",
    "\n",
    "~~~\n",
    "it = 1\n",
    "while it < 1000:\n",
    "    ...\n",
    "    it = it + 1\n",
    "~~~\n",
    "\n",
    "Vous n'avez pas le droit d'utiliser le module **math**"
   ]
  },
  {
   "cell_type": "code",
   "execution_count": null,
   "metadata": {
    "collapsed": false
   },
   "outputs": [],
   "source": [
    "## Exercice 2-6\n",
    "def factorielle(n):\n",
    "    res = 1\n",
    "    for it in range(1,n+1):\n",
    "        res = res * it\n",
    "    return res\n",
    "\n",
    "## Ne pas modifier les lignes suivantes\n",
    "import test_notebook_td_3\n",
    "test_notebook_td_3.tester_exo( '2_6', globals() )"
   ]
  },
  {
   "cell_type": "markdown",
   "metadata": {},
   "source": [
    "**Exemple 1 :** à l'exécution de la cellule ci-dessous, elle doit afficher : **120** (soit factorielle(5))"
   ]
  },
  {
   "cell_type": "code",
   "execution_count": null,
   "metadata": {
    "collapsed": false
   },
   "outputs": [],
   "source": [
    "factorielle(5)"
   ]
  },
  {
   "cell_type": "markdown",
   "metadata": {},
   "source": [
    "**Exemple 2 :** à l'exécution de la cellule ci-dessous, elle doit afficher : **362880** (soit factoriel(9))"
   ]
  },
  {
   "cell_type": "code",
   "execution_count": null,
   "metadata": {
    "collapsed": false
   },
   "outputs": [],
   "source": [
    "factorielle(9)"
   ]
  },
  {
   "cell_type": "markdown",
   "metadata": {},
   "source": [
    "### Exercice n°7 : Fonction combinatoire"
   ]
  },
  {
   "cell_type": "markdown",
   "metadata": {},
   "source": [
    "En utilisant la fonction **factorielle** précédente, écrire une fonction **combinatoire** qui prend deux arguments n et k et calcule la combinatoire n, k (n sera donc le premier argument):\n",
    "\n",
    "$\\dbinom{n}{k}$\n",
    "\n",
    "On rappelle la formule de la combinatoire :\n",
    "\n",
    "$\\dbinom{n}{k} = \\frac{n!}{(n-k)!k!}$\n",
    "\n",
    "A noter que les cellules du notebook sont connectées au même kernel, vous n'avez donc pas besoin de recopier le code de la fonction factorielle dans la cellule.\n",
    "\n",
    "On se restreindra aux cas où $n \\ge k$ et $k \\ge 0$"
   ]
  },
  {
   "cell_type": "code",
   "execution_count": null,
   "metadata": {
    "collapsed": false
   },
   "outputs": [],
   "source": [
    "## Exercice 2-7\n",
    "def combinatoire(n,k):\n",
    "    return factorielle(n)//(factorielle(n-k)*factorielle(k))\n",
    "\n",
    "## Ne pas modifier les lignes suivantes\n",
    "import test_notebook_td_3\n",
    "test_notebook_td_3.tester_exo( '2_7', globals() )"
   ]
  },
  {
   "cell_type": "markdown",
   "metadata": {},
   "source": [
    "**Exemple 1 :** à l'exécution de la cellule ci-dessous, elle doit afficher : **10** soit $\\dbinom{10}{1}$"
   ]
  },
  {
   "cell_type": "code",
   "execution_count": null,
   "metadata": {
    "collapsed": false
   },
   "outputs": [],
   "source": [
    "combinatoire(10,1)"
   ]
  },
  {
   "cell_type": "markdown",
   "metadata": {},
   "source": [
    "**Exemple 2 :** à l'exécution de la cellule ci-dessous, elle doit afficher : **45** soit $\\dbinom{10}{2}$"
   ]
  },
  {
   "cell_type": "code",
   "execution_count": null,
   "metadata": {
    "collapsed": false
   },
   "outputs": [],
   "source": [
    "combinatoire(10,2)"
   ]
  },
  {
   "cell_type": "markdown",
   "metadata": {},
   "source": [
    "**Exemple 3 :** à l'exécution de la cellule ci-dessous, elle doit afficher : **1287** soit $\\dbinom{13}{5}$"
   ]
  },
  {
   "cell_type": "code",
   "execution_count": null,
   "metadata": {
    "collapsed": false
   },
   "outputs": [],
   "source": [
    "combinatoire(13,5)"
   ]
  },
  {
   "cell_type": "markdown",
   "metadata": {},
   "source": [
    "### Exercice n°8 : Gain du loto"
   ]
  },
  {
   "cell_type": "markdown",
   "metadata": {},
   "source": [
    "La combinatoire représente le nombre de combinaison possible de n éléments parmi k.  \n",
    "Par exemple, si l'on considère le loto, on gagne si on obtient la bonne combinaison de 6 parmi 49, et il y a :\n",
    "\n",
    "$\\dbinom{49}{6}$ combinaisons possibles, soit (si votre code fonctionne):"
   ]
  },
  {
   "cell_type": "code",
   "execution_count": null,
   "metadata": {
    "collapsed": false
   },
   "outputs": [],
   "source": [
    "combinatoire(49,6)"
   ]
  },
  {
   "cell_type": "markdown",
   "metadata": {},
   "source": [
    "La chance que votre combinaison soit la bonne est donc de :\n",
    "\n",
    "$\\frac{1}{\\dbinom{49}{6}}$\n",
    "\n",
    "Soit :"
   ]
  },
  {
   "cell_type": "code",
   "execution_count": null,
   "metadata": {
    "collapsed": false
   },
   "outputs": [],
   "source": [
    "1/combinatoire(49,6)"
   ]
  },
  {
   "cell_type": "markdown",
   "metadata": {},
   "source": [
    "En utilisant la fonction **combinatoire** précédente, écrire une fonction **gain_loto_gros_lot** qui prend trois arguments (dans cet ordre):\n",
    "    - le nombre de chiffres possibles\n",
    "    - le nombre nombre de chiffre à sélectionner\n",
    "    - le montant gros lot\n",
    "\n",
    "Et affiche le gain moyen, en considérant uniquement le gros lot. Le gain moyen est égal au montant du gros lot multiplié par la probabilité de le gagner."
   ]
  },
  {
   "cell_type": "code",
   "execution_count": null,
   "metadata": {
    "collapsed": false
   },
   "outputs": [],
   "source": [
    "## Exercice 2-8\n",
    "def gain_loto_gros_lot(n,k,montant):\n",
    "    return montant/combinatoire(n,k)\n",
    "\n",
    "## Ne pas modifier les lignes suivantes\n",
    "import test_notebook_td_3\n",
    "test_notebook_td_3.tester_exo( '2_8', globals() )"
   ]
  },
  {
   "cell_type": "markdown",
   "metadata": {},
   "source": [
    "**Exemple 1 :** à l'exécution de la cellule ci-dessous, elle doit afficher (environ): **0.7151123842018516** "
   ]
  },
  {
   "cell_type": "code",
   "execution_count": null,
   "metadata": {
    "collapsed": false
   },
   "outputs": [],
   "source": [
    "gain_loto_gros_lot(49,6, 10**7)"
   ]
  },
  {
   "cell_type": "markdown",
   "metadata": {},
   "source": [
    "**Exemple 2 :** à l'exécution de la cellule ci-dessous, elle doit afficher : **3.6489691662105455**"
   ]
  },
  {
   "cell_type": "code",
   "execution_count": null,
   "metadata": {
    "collapsed": false
   },
   "outputs": [],
   "source": [
    "gain_loto_gros_lot(30,4, 10**5)"
   ]
  },
  {
   "cell_type": "markdown",
   "metadata": {},
   "source": [
    "### Exercice n°9 : Gain du loto moyen\n",
    "\n",
    "On considère maintenant un jeu du loto où les gains sont divisés par 100 à chaque rang, à savoir :\n",
    "\n",
    "- si vous avez tous les chiffres justes, vous gagnez le gros lot\n",
    "- si il vous manque un chiffre, vous gagnez le gros lot divisé par 100\n",
    "- si il vous manque deux chiffres, vous gagnez le gros lot divisé par 10000\n",
    "etc ...\n",
    "\n",
    "Vous gagnez quelque chose, même avec un chiffre !\n",
    "\n",
    "Si il y a **n** chiffres possibles, que vous en choisissez **k**, le nombre de tirage qui vous donne exactement **j** bons chiffres est de :\n",
    "\n",
    "$\\dbinom{k}{j}*\\dbinom{n-k}{k-j}$\n",
    "\n",
    "La probabilité de gagner est donc de :\n",
    "\n",
    "$\\frac{ \\dbinom{k}{k-j}*\\dbinom{n-k}{j} }{\\dbinom{n}{k}}$\n",
    "\n",
    "i.e. le nombre de combinaison gagnante sur le nombre de combinaisons totales\n",
    "\n",
    "En utilisant la fonction **combinatoire** précédente, écrire une fonction **gain_loto** qui prend trois arguments (dans cet ordre):\n",
    "    - le nombre de chiffres possibles\n",
    "    - le nombre nombre de chiffre à sélectionner\n",
    "    - le montant gros lot\n",
    "    \n",
    "Et qui calcule le gain moyen en tenant compte des cas où vous n'avez pas tous les chiffres."
   ]
  },
  {
   "cell_type": "code",
   "execution_count": null,
   "metadata": {
    "collapsed": false
   },
   "outputs": [],
   "source": [
    "## Exercice 2-9\n",
    "def gain_loto(n,k,montant):\n",
    "    gain_moyen = 0\n",
    "    for j in range(k):\n",
    "        increment = (montant/(100**j))*combinatoire(k,k-j)*combinatoire(n-k,j)/combinatoire(n,k)\n",
    "        gain_moyen += increment\n",
    "    return gain_moyen\n",
    "        \n",
    "## Ne pas modifier les lignes suivantes\n",
    "import test_notebook_td_3\n",
    "test_notebook_td_3.tester_exo( '2_9', globals() )"
   ]
  },
  {
   "cell_type": "code",
   "execution_count": null,
   "metadata": {
    "collapsed": true
   },
   "outputs": [],
   "source": []
  },
  {
   "cell_type": "markdown",
   "metadata": {},
   "source": [
    "**Exemple 1 :** à l'exécution de la cellule ci-dessous, elle doit afficher (environ): **0.37188769208633754** "
   ]
  },
  {
   "cell_type": "code",
   "execution_count": null,
   "metadata": {
    "collapsed": false
   },
   "outputs": [],
   "source": [
    "gain_loto(49,6, 10**6)"
   ]
  },
  {
   "cell_type": "markdown",
   "metadata": {},
   "source": [
    "**Exemple 2 :** à l'exécution de la cellule ci-dessous, elle doit afficher : **8.19339536580916**"
   ]
  },
  {
   "cell_type": "code",
   "execution_count": null,
   "metadata": {
    "collapsed": false
   },
   "outputs": [],
   "source": [
    "gain_loto(30,4, 10**5)"
   ]
  },
  {
   "cell_type": "code",
   "execution_count": null,
   "metadata": {
    "collapsed": true
   },
   "outputs": [],
   "source": []
  }
 ],
 "metadata": {
  "anaconda-cloud": {},
  "kernelspec": {
   "display_name": "Python [default]",
   "language": "python",
   "name": "python3"
  },
  "language_info": {
   "codemirror_mode": {
    "name": "ipython",
    "version": 3
   },
   "file_extension": ".py",
   "mimetype": "text/x-python",
   "name": "python",
   "nbconvert_exporter": "python",
   "pygments_lexer": "ipython3",
   "version": "3.5.2"
  }
 },
 "nbformat": 4,
 "nbformat_minor": 0
}
