{
 "cells": [
  {
   "cell_type": "markdown",
   "metadata": {},
   "source": [
    "# TP - logique, opérateurs et variables booléennes\n",
    "\n",
    "A noter que si vous avez besoin dans votre code de faire des tests avec des valeurs booléennes, vous pouvez utiliser la syntaxe :"
   ]
  },
  {
   "cell_type": "code",
   "execution_count": 1,
   "metadata": {
    "collapsed": false
   },
   "outputs": [
    {
     "name": "stdout",
     "output_type": "stream",
     "text": [
      "False\n",
      "True\n"
     ]
    }
   ],
   "source": [
    "for x in (False, True):\n",
    "    print(x)"
   ]
  },
  {
   "cell_type": "markdown",
   "metadata": {},
   "source": [
    "Par exemple, pour tester l'opérateur **or**:"
   ]
  },
  {
   "cell_type": "code",
   "execution_count": 3,
   "metadata": {
    "collapsed": false
   },
   "outputs": [
    {
     "name": "stdout",
     "output_type": "stream",
     "text": [
      "x =>  False , y =>  False\n",
      "\tx ou y =>  False\n",
      "x =>  False , y =>  True\n",
      "\tx ou y =>  True\n",
      "x =>  True , y =>  False\n",
      "\tx ou y =>  True\n",
      "x =>  True , y =>  True\n",
      "\tx ou y =>  True\n"
     ]
    }
   ],
   "source": [
    "for x in (False, True):\n",
    "    for y in (False, True):\n",
    "        print(\"x => \", x, \", y => \", y)\n",
    "        print(\"\\tx ou y => \", x or y )"
   ]
  },
  {
   "cell_type": "markdown",
   "metadata": {},
   "source": [
    "## Partie 1 - logique, simplification d'expression logique\n",
    "\n",
    "Pour cette partie, on ne fera pas de code informatique ! Simplifier les expressions suivantes en utilisant la distributivité, l'associativité et le fait que :\n",
    "\n",
    "$(\\lnot a) \\land a$ est toujours Faux  \n",
    "$(\\lnot a) \\lor a$  est toujours Vrai  \n",
    "\n",
    "Indiquez votre réponse dans la case en dessous, en tapant les opérateurs en tout lettre. Par exemple :"
   ]
  },
  {
   "cell_type": "markdown",
   "metadata": {},
   "source": [
    "$(a \\lor b) \\land (a \\lor \\lnot b) \\land c$\n",
    "\n",
    "Peut se simplifier en (en utilisant la distributivité sur $(a \\lor b) \\land (a \\lor \\lnot b)$ :\n",
    "\n",
    "$(a \\lor b) \\land (a \\lor \\lnot b) \\land c$  \n",
    "$\\Leftrightarrow$  \n",
    "$(a \\lor (b \\land (\\lnot b))) \\land c$  \n",
    "$\\Leftrightarrow$  \n",
    "$a \\land c$ "
   ]
  },
  {
   "cell_type": "code",
   "execution_count": null,
   "metadata": {
    "collapsed": true
   },
   "outputs": [],
   "source": [
    "## Réponse 0\n",
    "a et c"
   ]
  },
  {
   "cell_type": "markdown",
   "metadata": {},
   "source": [
    "#### Expression 1 :\n",
    "\n",
    "$a \\land b \\land (\\lnot a)$"
   ]
  },
  {
   "cell_type": "code",
   "execution_count": 9,
   "metadata": {
    "collapsed": true
   },
   "outputs": [],
   "source": [
    "## Réponse 1"
   ]
  },
  {
   "cell_type": "markdown",
   "metadata": {},
   "source": [
    "#### Expression 1.1 :\n",
    "\n",
    "$a \\lor b \\lor (\\lnot a)$"
   ]
  },
  {
   "cell_type": "code",
   "execution_count": 9,
   "metadata": {
    "collapsed": true
   },
   "outputs": [],
   "source": [
    "## Réponse 1.1"
   ]
  },
  {
   "cell_type": "markdown",
   "metadata": {},
   "source": [
    "#### Expression 2 :\n",
    "\n",
    "$(a \\lor b) \\land (a \\lor (\\lnot b))$"
   ]
  },
  {
   "cell_type": "code",
   "execution_count": null,
   "metadata": {
    "collapsed": true
   },
   "outputs": [],
   "source": [
    "## Réponse 2"
   ]
  },
  {
   "cell_type": "markdown",
   "metadata": {},
   "source": [
    "#### Expression 3 :\n",
    "\n",
    "$a \\land b \\land c \\land (\\lnot a)$"
   ]
  },
  {
   "cell_type": "code",
   "execution_count": 4,
   "metadata": {
    "collapsed": true
   },
   "outputs": [],
   "source": [
    "## Réponse 3"
   ]
  },
  {
   "cell_type": "markdown",
   "metadata": {},
   "source": [
    "#### Expression 4 :\n",
    "\n",
    "$(\\lnot(a \\land b)) \\land a$"
   ]
  },
  {
   "cell_type": "code",
   "execution_count": 5,
   "metadata": {
    "collapsed": true
   },
   "outputs": [],
   "source": [
    "## Réponse 4"
   ]
  },
  {
   "cell_type": "markdown",
   "metadata": {},
   "source": [
    "#### Expression 5 :\n",
    "\n",
    "$(a \\land b) \\lor (a \\land b \\land c)$"
   ]
  },
  {
   "cell_type": "code",
   "execution_count": 6,
   "metadata": {
    "collapsed": true
   },
   "outputs": [],
   "source": [
    "## Réponse 5"
   ]
  },
  {
   "cell_type": "markdown",
   "metadata": {},
   "source": [
    "#### Expression 6 :\n",
    "\n",
    "$(a \\lor b) \\land (((\\lnot a) \\land (\\lnot c)) \\land ((\\lnot b) \\lor c))$"
   ]
  },
  {
   "cell_type": "code",
   "execution_count": 7,
   "metadata": {
    "collapsed": true
   },
   "outputs": [],
   "source": [
    "## Réponse 6"
   ]
  },
  {
   "cell_type": "markdown",
   "metadata": {},
   "source": [
    "#### Expression 7 :\n",
    "\n",
    "$(a \\land b \\land c \\land d) \\lor (a \\land b \\land (\\lnot c) \\land d) \\lor (a \\land b \\land c \\land (\\lnot d)) \\lor (a \\land b \\land (\\lnot c) \\land (\\lnot d))$"
   ]
  },
  {
   "cell_type": "code",
   "execution_count": 8,
   "metadata": {
    "collapsed": true
   },
   "outputs": [],
   "source": [
    "## Réponse 7"
   ]
  },
  {
   "cell_type": "markdown",
   "metadata": {},
   "source": [
    "## Partie 2 - implémentation d'expression\n",
    "\n",
    "Coder en python des fonctions qui correspondent aux expressions ci-dessus.  \n",
    "On rappelle les 3 principaux opérateurs logiques :  \n",
    "\n",
    "$\\lnot$ => **not**  \n",
    "$\\land$ => **and**  \n",
    "$\\lor$ => **or**  \n",
    "\n",
    "Par exemple l'expression simplifiée $a \\land c$ se code avec la fonction :  "
   ]
  },
  {
   "cell_type": "code",
   "execution_count": null,
   "metadata": {
    "collapsed": true
   },
   "outputs": [],
   "source": [
    "def expression_0(a,c):\n",
    "    return a and c"
   ]
  },
  {
   "cell_type": "markdown",
   "metadata": {},
   "source": [
    "Faites de même pour les 8 expressions logiques.  \n",
    "Si vous n'êtes pas sûr de vos simplifications, codez l'expression originale.  "
   ]
  },
  {
   "cell_type": "code",
   "execution_count": null,
   "metadata": {
    "collapsed": true
   },
   "outputs": [],
   "source": [
    "## Code expression 1\n"
   ]
  },
  {
   "cell_type": "code",
   "execution_count": null,
   "metadata": {
    "collapsed": true
   },
   "outputs": [],
   "source": [
    "## Code expression 1.1\n"
   ]
  },
  {
   "cell_type": "code",
   "execution_count": null,
   "metadata": {
    "collapsed": true
   },
   "outputs": [],
   "source": [
    "## Code expression 2\n"
   ]
  },
  {
   "cell_type": "code",
   "execution_count": null,
   "metadata": {
    "collapsed": true
   },
   "outputs": [],
   "source": [
    "## Code expression 3\n"
   ]
  },
  {
   "cell_type": "code",
   "execution_count": null,
   "metadata": {
    "collapsed": true
   },
   "outputs": [],
   "source": [
    "## Code expression 4\n"
   ]
  },
  {
   "cell_type": "code",
   "execution_count": null,
   "metadata": {
    "collapsed": true
   },
   "outputs": [],
   "source": [
    "## Code expression 5\n"
   ]
  },
  {
   "cell_type": "code",
   "execution_count": null,
   "metadata": {
    "collapsed": true
   },
   "outputs": [],
   "source": [
    "## Code expression 6\n"
   ]
  },
  {
   "cell_type": "code",
   "execution_count": null,
   "metadata": {
    "collapsed": true
   },
   "outputs": [],
   "source": [
    "## Code expression 7\n"
   ]
  },
  {
   "cell_type": "markdown",
   "metadata": {},
   "source": [
    "## Partie 3 - analyse de code\n",
    "\n",
    "Le but dans cette partie est d'analyser le code fourni et d'être capable de savoir quand chacun des affichages est déclenché. Par exemple avec le code suivant :"
   ]
  },
  {
   "cell_type": "code",
   "execution_count": 1,
   "metadata": {
    "collapsed": true
   },
   "outputs": [],
   "source": [
    "def f(x):\n",
    "    if x < 0:\n",
    "        if x ** 2 > 25:\n",
    "            print(\"Cas 1\")\n",
    "        else:\n",
    "            print(\"Cas 2\")\n",
    "    elif x > 5:\n",
    "        print(\"Cas 3\")\n",
    "    else:\n",
    "        if x**2 > 100:\n",
    "            print(\"Cas 4\")\n",
    "        else:\n",
    "            print(\"Cas 5\")"
   ]
  },
  {
   "cell_type": "markdown",
   "metadata": {},
   "source": [
    "Le cas 1 s'affiche si x < -5 (x < 0 et $x^2$ > 25)  \n",
    "Le cas 2 s'affiche si -5 <= x < 0  \n",
    "Le cas 3 s'affiche si x > 5 (ce qui implique $\\lnot (x < 0)$)  \n",
    "Le cas 4 ne s'affiche jamais (on ne peut pas avoir à la fois $0 \\le x \\le 5$ et $x^2 > 100$)  \n",
    "Le cas 5 s'affiche si $0 \\le x \\le 5$\n",
    "\n",
    "On pourrait éventuellement réécrire le code sous la forme :"
   ]
  },
  {
   "cell_type": "code",
   "execution_count": 2,
   "metadata": {
    "collapsed": true
   },
   "outputs": [],
   "source": [
    "def f(x):\n",
    "    if x < -5:\n",
    "        print(\"Cas 1\")\n",
    "    elif -5 <= x < 0:\n",
    "        print(\"Cas 2\")\n",
    "    elif x > 5:\n",
    "        print(\"Cas 3\")\n",
    "    elif 0 <= x <= 5:\n",
    "        print(\"Cas 5\")"
   ]
  },
  {
   "cell_type": "markdown",
   "metadata": {},
   "source": [
    "Pour une même valeur de x, plusieurs cas peuvent s'afficher"
   ]
  },
  {
   "cell_type": "markdown",
   "metadata": {},
   "source": [
    "### Exercice 3.1"
   ]
  },
  {
   "cell_type": "code",
   "execution_count": null,
   "metadata": {
    "collapsed": true
   },
   "outputs": [],
   "source": [
    "import math\n",
    "\n",
    "def f(x):\n",
    "    if x < 6:\n",
    "        print(\"Cas 1\")\n",
    "    elif x > 2:\n",
    "        print(\"Cas 2\")\n",
    "    else:\n",
    "        print(\"Cas 3\")"
   ]
  },
  {
   "cell_type": "code",
   "execution_count": null,
   "metadata": {
    "collapsed": true
   },
   "outputs": [],
   "source": [
    "## Votre réponse"
   ]
  },
  {
   "cell_type": "markdown",
   "metadata": {},
   "source": [
    "### Exercice 3.2"
   ]
  },
  {
   "cell_type": "code",
   "execution_count": null,
   "metadata": {
    "collapsed": true
   },
   "outputs": [],
   "source": [
    "import math\n",
    "\n",
    "def f(x):\n",
    "    if x < 0:\n",
    "        if abs(x) > 2:\n",
    "            print(\"Cas 1\")\n",
    "        elif abs(x) > 3:\n",
    "            print(\"Cas 2\")\n",
    "        else:\n",
    "            print(\"Cas 3\")\n",
    "        print(\"Cas 4\")\n",
    "    elif x < 6:\n",
    "        if abs(x) > 2:\n",
    "            print(\"Cas 5\")\n",
    "        elif abs(x) > 3:\n",
    "            print(\"Cas 6\")\n",
    "        else:\n",
    "            print(\"Cas 7\")\n",
    "    else:\n",
    "        print(\"Cas 8\")"
   ]
  },
  {
   "cell_type": "code",
   "execution_count": null,
   "metadata": {
    "collapsed": true
   },
   "outputs": [],
   "source": [
    "## Votre réponse"
   ]
  },
  {
   "cell_type": "markdown",
   "metadata": {},
   "source": [
    "### Exercice 3.3"
   ]
  },
  {
   "cell_type": "code",
   "execution_count": null,
   "metadata": {
    "collapsed": true
   },
   "outputs": [],
   "source": [
    "import math\n",
    "\n",
    "def f(x):\n",
    "    if x < 0:\n",
    "        if x + 10 > 0:\n",
    "            print(\"Cas 1\")\n",
    "        else:\n",
    "            print(\"Cas 2\")\n",
    "    elif math.sqrt(x) > 5:\n",
    "        print(\"Cas 3\")\n",
    "    elif x < 1000:\n",
    "        if x**2 > 100:\n",
    "            print(\"Cas 4\")\n",
    "        else:\n",
    "            print(\"Cas 5\")\n",
    "    else:\n",
    "        print(\"Cas 6\")"
   ]
  },
  {
   "cell_type": "code",
   "execution_count": null,
   "metadata": {
    "collapsed": true
   },
   "outputs": [],
   "source": [
    "## Votre réponse"
   ]
  },
  {
   "cell_type": "markdown",
   "metadata": {},
   "source": [
    "### Exercice 3.4"
   ]
  },
  {
   "cell_type": "code",
   "execution_count": null,
   "metadata": {
    "collapsed": true
   },
   "outputs": [],
   "source": [
    "import math\n",
    "\n",
    "def f(x):\n",
    "    if x < -10:\n",
    "        if abs(x) > 2:\n",
    "            if x**2 > 100:\n",
    "                print(\"Cas 1\")\n",
    "            else:\n",
    "                print(\"Cas 2\")\n",
    "            print(\"Cas 3\")\n",
    "        else:\n",
    "            print(\"Cas 4\")\n",
    "    elif x > 16:\n",
    "        if x % 3 == 0:\n",
    "            if x % 2 == 0:\n",
    "                print(\"Cas 5\")\n",
    "            else:\n",
    "                print(\"Cas 6\")\n",
    "        elif x % 4 == 0:\n",
    "            print(\"Cas 7\")\n",
    "        else:\n",
    "            print(\"Cas 8\")\n",
    "    else:\n",
    "        if abs(x) > 20:\n",
    "            print(\"Cas 9\")\n",
    "        print(\"Cas 10\")"
   ]
  },
  {
   "cell_type": "code",
   "execution_count": null,
   "metadata": {
    "collapsed": true
   },
   "outputs": [],
   "source": [
    "## Votre réponse"
   ]
  }
 ],
 "metadata": {
  "anaconda-cloud": {},
  "kernelspec": {
   "display_name": "Python [conda root]",
   "language": "python",
   "name": "conda-root-py"
  },
  "language_info": {
   "codemirror_mode": {
    "name": "ipython",
    "version": 3
   },
   "file_extension": ".py",
   "mimetype": "text/x-python",
   "name": "python",
   "nbconvert_exporter": "python",
   "pygments_lexer": "ipython3",
   "version": "3.5.2"
  }
 },
 "nbformat": 4,
 "nbformat_minor": 1
}
