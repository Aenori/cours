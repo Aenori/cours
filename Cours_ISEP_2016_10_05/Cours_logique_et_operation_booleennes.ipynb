{
 "cells": [
  {
   "cell_type": "markdown",
   "metadata": {},
   "source": [
    "# Logique et opérations booléennes\n",
    "# Application à l'informatique\n",
    "\n",
    "## Proposition et opérations\n",
    "**Définition:**\n",
    "\n",
    "*En mathématique, une proposition est un énoncé syntaxique correct qui peut être soit vrai, soit faux**\n",
    "\n",
    "Par exemple:\n",
    "\n",
    "- Tous les entiers naturels sont des réels (notée A)\n",
    "- Tous les réels sont des entiers naturels (notée B)\n",
    "\n",
    "On peut effectuer 5 opérations sur les propositions logiques :\n",
    "\n",
    "- négation (notée $\\lnot A$), elle est vraie si A est fausse et réciproquement\n",
    "- disjonction (notée $A \\lor B$), elle est vraie si A **ou** B est vraie, fausse sinon\n",
    "- conjonction (notée $A \\land B$), elle est vraie si A **et** B est vraie, fausse sinon\n",
    "- implication (notée $A \\Rightarrow B$), elle est vraie si lorsque A est vraie, B l'est aussi\n",
    "- équivalence (notée $A \\Leftrightarrow B$), elle est vraie si lorsque B est vraie si et seulement si A l'est"
   ]
  },
  {
   "cell_type": "markdown",
   "metadata": {},
   "source": [
    "## Table de vérité\n",
    "\n",
    "| A     | B     | $\\lnot A$ | $A\\lor B$ | $A \\land B$ | $A \\Rightarrow B$ | $A \\Leftrightarrow B$ |\n",
    "|:-----:|:-----:|:-----:|:-----:|:-----:|:-----:|:-----:|\n",
    "|=======|=======|=======|=======|=======|=======|=======|\n",
    "| True  | True  | False | True  | True  | True  | True  |\n",
    "| True  | False | False | True  | False | False | False |\n",
    "| False | True  | True  | True  | False | True  | False |\n",
    "| False | False | True  | False | False | True  | True  |"
   ]
  },
  {
   "cell_type": "markdown",
   "metadata": {},
   "source": [
    "## Transposition informatique\n",
    "\n",
    "| A     | B     | not A | A or B | A and B | (not A) or B | A == B |\n",
    "|:-----:|:-----:|:-----:|:-----:|:-----:|:-----:|:-----:|\n",
    "|=======|=======|=======|=======|=======|=======|=======|\n",
    "| True  | True  | False | True  | True  | True  | True  |\n",
    "| True  | False | False | True  | False | False | False |\n",
    "| False | True  | True  | True  | False | True  | False |\n",
    "| False | False | True  | False | False | True  | True  |"
   ]
  },
  {
   "cell_type": "code",
   "execution_count": null,
   "metadata": {
    "collapsed": false
   },
   "outputs": [],
   "source": [
    "def print_with_pad( *args ):\n",
    "    print( \"| \".join( str(it).ljust(7) for it in args ) )\n",
    "\n",
    "print_with_pad(\"A\",\"B\",\"not A\",\"A or B\",\"A and B\",\"A == B\")\n",
    "for (A,B) in zip( (True, True, False, False), (True, False, True, False)):\n",
    "    print_with_pad(A,B,not A, A or B, A and B, A == B)"
   ]
  },
  {
   "cell_type": "markdown",
   "metadata": {},
   "source": [
    "## Différence importante mathématique <=> informatique\n",
    "\n",
    "Lorsque on parle de proposition en mathématiques, on sous-entend souvent \"pour toutes les valeurs d'un ensemble\"\n",
    "\n",
    "Par exemple :\n",
    "\n",
    "$|x| > 4 \\Leftrightarrow x^2 > 16$\n",
    "\n",
    "Est vraie pour tout x appartenant à $ \\mathbb{R} $. Mais pour x = 3, on peut dire aussi que:\n",
    "\n",
    "$x > 1 \\Leftrightarrow x^2 > 8$\n",
    "\n",
    "En informatique, on ne peut pas évaluer une expression pour toutes les valeurs appartenant à $ \\mathbb{R} $, les expressions seront évaluées par rapport aux valeurs des variables."
   ]
  },
  {
   "cell_type": "code",
   "execution_count": null,
   "metadata": {
    "collapsed": false
   },
   "outputs": [],
   "source": [
    "x = 3\n",
    "print( \"(abs(x) > 4) <=> (x**2 > 16) => \", (abs(x) > 4) == (x**2 > 16) )\n",
    "print( \"     (x > 1) <=> (x**2 > 8)  => \", (x > 1) == (x**2 > 8) )"
   ]
  },
  {
   "cell_type": "markdown",
   "metadata": {},
   "source": [
    "On peut ensuite utiliser une boucle pour évaluer ces expressions pour un ensemble de valeurs"
   ]
  },
  {
   "cell_type": "code",
   "execution_count": null,
   "metadata": {
    "collapsed": false
   },
   "outputs": [],
   "source": [
    "for x in range(5):\n",
    "    print( \"Pour x =\",x)\n",
    "    print( \"\\t(abs(x) > 4) <=> (x**2 > 16) => \", (abs(x) > 4) == (x**2 > 16) )\n",
    "    print( \"\\t     (x > 1) <=> (x**2 > 8)  => \", (x > 1) == (x**2 > 8) )"
   ]
  },
  {
   "cell_type": "markdown",
   "metadata": {},
   "source": [
    "La logique est utile pour simplifier du code, par exemple on retrouve souvent des exemples de ce type dans les codes des élèves :"
   ]
  },
  {
   "cell_type": "code",
   "execution_count": null,
   "metadata": {
    "collapsed": false
   },
   "outputs": [],
   "source": [
    "def est_pair(x):\n",
    "    return x % 2 == 0\n",
    "\n",
    "def affiche_si_pair(x):\n",
    "    if est_pair(x) == True:\n",
    "        print(x)\n",
    "        \n",
    "affiche_si_pair(4)\n",
    "affiche_si_pair(5)"
   ]
  },
  {
   "cell_type": "markdown",
   "metadata": {},
   "source": [
    "C'est correct, mais l'expression **est_pair(x) == True** est inutile. Pourquoi ? Regardons sa table de vérité :\n",
    "\n",
    "| est_pair(x) | est_pair(x) == True |\n",
    "|:-----:|:-----:|\n",
    "|=======|=======|\n",
    "| True  | True  |\n",
    "| False | False |\n",
    "\n",
    "Donc **est_pair(x) == True** est équivalente à **est_pair(x)** pour toutes les valeurs possibles de **est_pair(x)**"
   ]
  },
  {
   "cell_type": "code",
   "execution_count": null,
   "metadata": {
    "collapsed": false
   },
   "outputs": [],
   "source": [
    "def est_pair(x):\n",
    "    return x % 2 == 0\n",
    "\n",
    "def affiche_si_pair(x):\n",
    "    if est_pair(x):\n",
    "        print(x)\n",
    "        \n",
    "affiche_si_pair(4)\n",
    "affiche_si_pair(5)"
   ]
  },
  {
   "cell_type": "markdown",
   "metadata": {},
   "source": [
    "A noter également qu'on ne peut pas manipuler l'expression $a \\lor b$ en informatique sans donner de valeurs à **a** et **b**, ou alors en passant par une fonction :"
   ]
  },
  {
   "cell_type": "code",
   "execution_count": null,
   "metadata": {
    "collapsed": true
   },
   "outputs": [],
   "source": [
    "def a_ou_b(a,b):\n",
    "    return a or b"
   ]
  },
  {
   "cell_type": "markdown",
   "metadata": {},
   "source": [
    "Il est important de faire attention à la logique pour les clauses if / elif / else.\n",
    "Par exemple :  "
   ]
  },
  {
   "cell_type": "code",
   "execution_count": null,
   "metadata": {
    "collapsed": true
   },
   "outputs": [],
   "source": [
    "x = 1\n",
    "y = 2\n",
    "\n",
    "def P1(x,y): ## P1 pour proposition 1\n",
    "    return x > y\n",
    "\n",
    "def P2(x):   ## P2 pour proposition 2\n",
    "    return abs(x) > 5\n",
    "\n",
    "def P3(x,y): ## P3 pour proposition 3\n",
    "    return (x < y) and (x**2 > y**2)\n",
    "\n",
    "if P1(x,y):\n",
    "    ## do something\n",
    "    pass\n",
    "elif P2(x):\n",
    "    ## do something\n",
    "    pass\n",
    "elif P3(x,y):\n",
    "    ## do something\n",
    "    pass\n",
    "else:\n",
    "    ## do something\n",
    "    pass"
   ]
  },
  {
   "cell_type": "markdown",
   "metadata": {},
   "source": [
    "Se lit en fait :"
   ]
  },
  {
   "cell_type": "code",
   "execution_count": null,
   "metadata": {
    "collapsed": true
   },
   "outputs": [],
   "source": [
    "x = 1\n",
    "y = 2\n",
    "\n",
    "def P1(x,y): ## P1 pour proposition 1\n",
    "    return x > y\n",
    "\n",
    "def P2(x):   ## P2 pour proposition 2\n",
    "    return abs(x) > 5\n",
    "\n",
    "def P3(x,y): ## P3 pour proposition 3\n",
    "    return (x < y) and (x**2 > y**2)\n",
    "\n",
    "if P1(x,y):\n",
    "    ## do something\n",
    "    pass\n",
    "if P2(x) and (not P1(x,y)):\n",
    "    ## do something\n",
    "    pass\n",
    "if P3(x,y) and (not P2(x)) and (not P1(x,y)) :\n",
    "    ## do something\n",
    "    pass\n",
    "if (not P3(x,y)) and (not P2(x)) and (not P1(x,y)) :\n",
    "    ## do something\n",
    "    pass"
   ]
  },
  {
   "cell_type": "markdown",
   "metadata": {},
   "source": [
    "## Opérations logiques, distributivité, associativité\n",
    "\n",
    "### Associativité\n",
    "\n",
    "Les opérations logiques $\\land$ et $\\lor$ sont associatives avec elle-même, c'est à dire que :\n",
    "\n",
    "$a \\land b \\land c$\n",
    "$a \\land (b \\land c)$\n",
    "$c \\land b \\land a$\n",
    "$b \\land (c \\land a)$\n",
    "\n",
    "Sont toutes strictement équivalentes. Même chose pour le $\\lor$.\n",
    "\n",
    "Par contre ce n'est pas vrai si vous combinez les opérateurs :\n",
    "\n",
    "$a \\land b \\lor c$\n",
    "\n",
    "Est différent de :\n",
    "\n",
    "$c \\land b \\lor a$"
   ]
  },
  {
   "cell_type": "code",
   "execution_count": null,
   "metadata": {
    "collapsed": false
   },
   "outputs": [],
   "source": [
    "## Exemple :\n",
    "\n",
    "x = 1\n",
    "a = (x > 0)\n",
    "b = (x == 2)\n",
    "c = (x < 0)\n",
    "print( a and b or c )\n",
    "print( c and b or a )"
   ]
  },
  {
   "cell_type": "markdown",
   "metadata": {},
   "source": [
    "**Attention à la priorité des opérateurs en informatique**\n",
    "\n",
    "Elle n'est pas forcément la même qu'en mathématique. Ne radinez pas sur les parenthèses !"
   ]
  },
  {
   "cell_type": "code",
   "execution_count": null,
   "metadata": {
    "collapsed": false
   },
   "outputs": [],
   "source": [
    "x = 1\n",
    "a = (x > 0)\n",
    "b = (x == 2)\n",
    "c = (x < 0)\n",
    "print( a or b and c )"
   ]
  },
  {
   "cell_type": "markdown",
   "metadata": {},
   "source": [
    "N'écrivez jamais :\n",
    "\n",
    "~~~\n",
    "a or b and c\n",
    "~~~\n",
    "\n",
    "Ecrivez plutôt\n",
    "\n",
    "~~~\n",
    "a or (b and c)\n",
    "## or\n",
    "(a or b) and c\n",
    "~~~"
   ]
  },
  {
   "cell_type": "markdown",
   "metadata": {},
   "source": [
    "### Distributivité \n",
    "\n",
    "$a \\lor (b \\land c)$  \n",
    "Est équivalent (pour toute valeur de a,b,c) à :  \n",
    "$(a \\lor b) \\land (a \\lor c)$  \n",
    "\n",
    "Et de la même façon :\n",
    "\n",
    "$a \\land (b \\lor c)$  \n",
    "Est équivalent (pour toute valeur de a,b,c) à :  \n",
    "$(a \\land b) \\lor (a \\land c)$  \n",
    "\n",
    "Par exemple, on peut simplifier :\n",
    "\n",
    "$a \\land (b \\lor (\\lnot a))$ \n",
    "\n",
    "En :  \n",
    "\n",
    "$(a \\land b) \\lor (a \\land (\\lnot a))$  \n",
    "\n",
    "Et comme $(a \\land (\\lnot a)$ est toujours False :\n",
    "\n",
    "$(a \\land b)$\n",
    "\n",
    "### Négation \n",
    "\n",
    "$\\lnot (a \\land b)$\n",
    "\n",
    "Est équivalent à :\n",
    "\n",
    "$(\\lnot a) \\lor (\\lnot b)$\n",
    "\n",
    "Et :\n",
    "\n",
    "$\\lnot (a \\land b)$\n",
    "\n",
    "Est équivalent à :\n",
    "\n",
    "$(\\lnot a) \\lor (\\lnot b)$"
   ]
  },
  {
   "cell_type": "markdown",
   "metadata": {},
   "source": [
    "## Application à l'informatique\n",
    "\n",
    "Il s'agit essentiellement de développer l'agilité pour traiter les différents cas qui peuvent arriver dans votre programme.\n",
    "\n",
    "A noter une petite subtilité :"
   ]
  },
  {
   "cell_type": "code",
   "execution_count": null,
   "metadata": {
    "collapsed": true
   },
   "outputs": [],
   "source": [
    "import math\n",
    "def P1(x):\n",
    "    return ( (x > 0) and (math.sqrt(x) > 16) )"
   ]
  },
  {
   "cell_type": "markdown",
   "metadata": {},
   "source": [
    "N'est pas équivalent en informatique à :"
   ]
  },
  {
   "cell_type": "code",
   "execution_count": null,
   "metadata": {
    "collapsed": true
   },
   "outputs": [],
   "source": [
    "import math\n",
    "def P2(x):\n",
    "    return ((math.sqrt(x) > 16) and (x > 0) )"
   ]
  },
  {
   "cell_type": "markdown",
   "metadata": {},
   "source": [
    "Pourquoi ? A cause de l'ordre d'évaluation :"
   ]
  },
  {
   "cell_type": "code",
   "execution_count": null,
   "metadata": {
    "collapsed": true
   },
   "outputs": [],
   "source": []
  }
 ],
 "metadata": {
  "anaconda-cloud": {},
  "kernelspec": {
   "display_name": "Python [conda root]",
   "language": "python",
   "name": "conda-root-py"
  },
  "language_info": {
   "codemirror_mode": {
    "name": "ipython",
    "version": 3
   },
   "file_extension": ".py",
   "mimetype": "text/x-python",
   "name": "python",
   "nbconvert_exporter": "python",
   "pygments_lexer": "ipython3",
   "version": "3.5.2"
  }
 },
 "nbformat": 4,
 "nbformat_minor": 1
}
