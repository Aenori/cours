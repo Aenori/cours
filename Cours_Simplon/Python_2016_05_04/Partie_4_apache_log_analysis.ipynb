{
 "cells": [
  {
   "cell_type": "markdown",
   "metadata": {
    "collapsed": true
   },
   "source": [
    "# Partie 4 : analyse de logs apache\n",
    "\n",
    "Ici nous allons maintenant utiliser les logs pour répondre à quelques questions :\n",
    "\n",
    "- quelles sont les causes d'erreurs ?  \n",
    "- quelles requêtes génèrent-elle le plus de données ?\n",
    "\n",
    "Nous travaillerons toujours sur le même jeu de données "
   ]
  },
  {
   "cell_type": "code",
   "execution_count": null,
   "metadata": {
    "collapsed": false
   },
   "outputs": [],
   "source": [
    "import pandas as pd\n",
    "import numpy as np\n",
    "import time\n",
    "\n",
    "## Le chargement du fichier proprement dit, on indique que les colonnes sont \n",
    "## séparées par des ;\n",
    "apache_log_df = pd.read_csv( \"log_aggreges.txt.csv\", sep =\";\" )\n",
    "\n",
    "## Une fonction pour convertir la colonne \"apache_date\" en date manipulable par python\n",
    "apache_log_df[\"date\"] = apache_log_df[\"apache_date\"].apply( \n",
    "    lambda apache_date_format: time.strptime(apache_date_format, \"%d/%b/%Y:%H:%M:%S\") \n",
    "     )\n",
    "\n",
    "## Une fonction pour convertir la colonne \"apache_date\" en date manipulable par python\n",
    "apache_log_df[\"data_size\"] = apache_log_df[\"data_size\"].replace(\"-\",\"0\").astype(np.int64)\n",
    "\n",
    "## Une fonction pour extraire l'heure\n",
    "apache_log_df[\"heure\"] = apache_log_df[\"date\"].apply( lambda x:x.tm_hour )\n",
    "apache_log_df[\"date_heure\"] = apache_log_df[\"date\"].apply( lambda x:(x.tm_mday, x.tm_hour ) )\n",
    "\n",
    "## On peut maintenant avoir un aperçu de ce tableau, avec la fonction head qui permet\n",
    "## de renvoyer les n premières lignes.\n",
    "apache_log_df.head(5)"
   ]
  },
  {
   "cell_type": "code",
   "execution_count": null,
   "metadata": {
    "collapsed": false
   },
   "outputs": [],
   "source": [
    "X = apache_log_df[[\"request\"]]\n",
    "Xd = X.T.to_dict().values()\n",
    "\n",
    "from sklearn.feature_extraction import DictVectorizer\n",
    "prep = DictVectorizer()\n",
    "Xt = prep.fit_transform(Xd).toarray()"
   ]
  },
  {
   "cell_type": "code",
   "execution_count": null,
   "metadata": {
    "collapsed": false
   },
   "outputs": [],
   "source": [
    "Xt.shape"
   ]
  },
  {
   "cell_type": "code",
   "execution_count": null,
   "metadata": {
    "collapsed": false
   },
   "outputs": [],
   "source": [
    "Xt = Xt[:,:-1]\n",
    "Xt.shape"
   ]
  },
  {
   "cell_type": "code",
   "execution_count": null,
   "metadata": {
    "collapsed": false
   },
   "outputs": [],
   "source": [
    "result_to_predict = apache_log_df[\"return_code\"] >= 500\n",
    "result_to_predict.shape"
   ]
  },
  {
   "cell_type": "code",
   "execution_count": null,
   "metadata": {
    "collapsed": false
   },
   "outputs": [],
   "source": [
    "from sklearn import datasets, linear_model\n",
    "\n",
    "# Create linear regression object\n",
    "regr = linear_model.LinearRegression()\n",
    "\n",
    "# Train the model using the training sets\n",
    "regr.fit(Xt, result_to_predict)"
   ]
  },
  {
   "cell_type": "code",
   "execution_count": null,
   "metadata": {
    "collapsed": false
   },
   "outputs": [],
   "source": [
    "print( len(regr.coef_) )\n",
    "print( regr.coef_ )\n",
    "print( regr.intercept_ )"
   ]
  },
  {
   "cell_type": "code",
   "execution_count": null,
   "metadata": {
    "collapsed": false
   },
   "outputs": [],
   "source": [
    "print( len(prep.feature_names_) )"
   ]
  },
  {
   "cell_type": "code",
   "execution_count": null,
   "metadata": {
    "collapsed": false
   },
   "outputs": [],
   "source": [
    "for it_coef, it_feat_name in zip(regr.coef_, prep.feature_names_ ):\n",
    "    print(\"La requête\", it_feat_name, \"a {0:.2f} % de chance de provoquer une erreur\".format(it_coef*100) )"
   ]
  },
  {
   "cell_type": "code",
   "execution_count": null,
   "metadata": {
    "collapsed": false
   },
   "outputs": [],
   "source": [
    "from sklearn.feature_selection import f_regression\n",
    "\n",
    "from sklearn import datasets, linear_model\n",
    "\n",
    "# Create linear regression object\n",
    "regr_fs = f_regression(Xt, result_to_predict)\n",
    "regr_fs"
   ]
  },
  {
   "cell_type": "code",
   "execution_count": null,
   "metadata": {
    "collapsed": false
   },
   "outputs": [],
   "source": [
    "import numpy as np\n",
    "\n",
    "x = np.random.normal( size = 1000 )\n",
    "y = np.random.normal( size = 1000 )\n",
    "z = np.random.normal( size = 1000 )\n",
    "\n",
    "to_pred = 2*x + z\n",
    "\n",
    "from sklearn.feature_selection import f_regression\n",
    "\n",
    "from sklearn import datasets, linear_model\n",
    "obs = n\n",
    "\n",
    "# Create linear regression object\n",
    "regr_fs = f_regression(y.reshape(-1,1), to_pred)\n",
    "regr_fs"
   ]
  },
  {
   "cell_type": "code",
   "execution_count": null,
   "metadata": {
    "collapsed": true
   },
   "outputs": [],
   "source": []
  }
 ],
 "metadata": {
  "kernelspec": {
   "display_name": "Python 3",
   "language": "python",
   "name": "python3"
  },
  "language_info": {
   "codemirror_mode": {
    "name": "ipython",
    "version": 3
   },
   "file_extension": ".py",
   "mimetype": "text/x-python",
   "name": "python",
   "nbconvert_exporter": "python",
   "pygments_lexer": "ipython3",
   "version": "3.4.4"
  }
 },
 "nbformat": 4,
 "nbformat_minor": 0
}
