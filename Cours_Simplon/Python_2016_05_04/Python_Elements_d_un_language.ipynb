{
 "cells": [
  {
   "cell_type": "markdown",
   "metadata": {},
   "source": [
    "# Intervention python - simplon\n",
    "# Eléments d'un langage de programmation"
   ]
  },
  {
   "cell_type": "markdown",
   "metadata": {},
   "source": [
    "## I Eléments d'un langage de programmation"
   ]
  },
  {
   "cell_type": "markdown",
   "metadata": {},
   "source": [
    "On retrouve dans python les éléments de base de tout langage de programmation \"classique\" :\n",
    "\n",
    "- variables & types (entiers, listes, chaines de caractère, nombres à virgule flottante)\n",
    "- expressions (booléennes / logiques / arithmétiques)\n",
    "- structures conditionnelles if / elif / else\n",
    "- boucles :\n",
    "    - while\n",
    "    - for / foreach\n",
    "- fonctions (appel/définitions)\n",
    "- containers:\n",
    "    - listes\n",
    "    - vecteurs\n",
    "    - map/dictionnaires\n",
    "- autres types de variable \n",
    "\n",
    "La difficulté de l'informatique ne consiste donc pas en la variété des instructions possibles, mais en la décomposition d'une tâche en instructions, et à la vision d'ensemble et l'évolution cohérente d'un système.\n",
    "\n",
    "Une des particularité de python tient au fait de manipuler certains types de base (listes, dictionnaires, tuples) directement avec certains symbôles syntaxique, sans utiliser de type array ou autre. Par exemple : "
   ]
  },
  {
   "cell_type": "code",
   "execution_count": 2,
   "metadata": {
    "collapsed": true
   },
   "outputs": [],
   "source": [
    "une_liste = []\n",
    "un_dictionnaire = {}\n",
    "un_tuple = ()"
   ]
  },
  {
   "cell_type": "markdown",
   "metadata": {},
   "source": [
    "Dans les petits éléments pratiques avec python, il y a la possibilité de grouper/dégrouper facilement des valeurs, par exemples pour itérer sur une liste en connaissant les indices des éléments :"
   ]
  },
  {
   "cell_type": "code",
   "execution_count": 3,
   "metadata": {
    "collapsed": false
   },
   "outputs": [
    {
     "name": "stdout",
     "output_type": "stream",
     "text": [
      "0 alpha\n",
      "1 bravo\n",
      "2 charlie\n",
      "3 delta\n",
      "4 echo\n",
      "5 fox-trot\n"
     ]
    }
   ],
   "source": [
    "liste = [\"alpha\",\"bravo\",\"charlie\",\"delta\",\"echo\",\"fox-trot\"]\n",
    "for it_index, it_elt in enumerate( liste ):\n",
    "    print( it_index, it_elt )"
   ]
  },
  {
   "cell_type": "markdown",
   "metadata": {},
   "source": [
    "De même pour itérer sur deux listes à la fois :"
   ]
  },
  {
   "cell_type": "code",
   "execution_count": 4,
   "metadata": {
    "collapsed": false
   },
   "outputs": [
    {
     "name": "stdout",
     "output_type": "stream",
     "text": [
      "Element liste 1 : alpha\n",
      "Element liste 2 : zoulou\n",
      "Element liste 1 : bravo\n",
      "Element liste 2 : yankee\n",
      "Element liste 1 : charlie\n",
      "Element liste 2 : whisky\n",
      "Element liste 1 : delta\n",
      "Element liste 2 : vodka\n",
      "Element liste 1 : echo\n",
      "Element liste 2 : uniform\n",
      "Element liste 1 : fox-trot\n",
      "Element liste 2 : tango\n"
     ]
    }
   ],
   "source": [
    "liste1 = [\"alpha\",\"bravo\",\"charlie\",\"delta\",\"echo\",\"fox-trot\"]\n",
    "liste2 = [\"zoulou\",\"yankee\",\"whisky\",\"vodka\",\"uniform\",\"tango\"]\n",
    "\n",
    "for it1, it2 in zip( liste1, liste2 ):\n",
    "    print( \"Element liste 1 :\", it1 )\n",
    "    print( \"Element liste 2 :\", it2 )"
   ]
  },
  {
   "cell_type": "markdown",
   "metadata": {},
   "source": [
    "## II Python"
   ]
  },
  {
   "cell_type": "markdown",
   "metadata": {},
   "source": [
    "Python est un langage interprété à typage dynamique.  \n",
    "Interprété signifie qu'il n'y a pas d'étape de compilation, l'interpréteur peut directement comprendre et exécuter votre code.\n",
    "Typage dynamique signifie que vous n'avez pas besoin de spécifier les types (ce que sont les variables, python le déduit pour vous)"
   ]
  },
  {
   "cell_type": "markdown",
   "metadata": {},
   "source": [
    "#### 1. Les variables et les types"
   ]
  },
  {
   "cell_type": "code",
   "execution_count": null,
   "metadata": {
    "collapsed": false
   },
   "outputs": [],
   "source": [
    "a = 5\n",
    "b = 6\n",
    "c = 10*a*a + 4*a*b + 1\n",
    "print(c)\n",
    "debut = \"tin \"\n",
    "milieu = \"nin \"*14\n",
    "fin = \"Batman !\"\n",
    "phrase = debut + milieu + fin\n",
    "print(phrase)"
   ]
  },
  {
   "cell_type": "markdown",
   "metadata": {},
   "source": [
    "Ci dessus on définit 6 variables :\n",
    "\n",
    "- a et b sont des entiers et valent 5 et 6\n",
    "- c est le résultat d'un calcul. Ici c sera un entier\n",
    "- debut et fin sont des chaînes de caractères\n",
    "- milieu est une chaine de caractère, issue de la répétition 14 fois d'une autre. La multiplication a ici un autre sens, car il s'agit de types différents.\n",
    "- phrase est le résultat de l'addition de 3 variables, comme ces variables sont des chaines de caractère, le résultat est une concaténation."
   ]
  },
  {
   "cell_type": "code",
   "execution_count": null,
   "metadata": {
    "collapsed": false
   },
   "outputs": [],
   "source": [
    "a = 5\n",
    "b = 5.0\n",
    "pi = 3.14159\n",
    "d = a**2 ## opérateur puissance\n",
    "e = a*b\n",
    "print( \"la \"* d )\n",
    "## La ligne suivante va provoquer une erreur\n",
    "print( \"la \"* e )\n"
   ]
  },
  {
   "cell_type": "markdown",
   "metadata": {},
   "source": [
    "On ne peut pas multiplier une chaîne de caractère par un nombre à virgule flottante (que signifierait répéter $\\Pi$ fois un texte ?).\n",
    "L'ordinateur n'est pas intelligent, il n'essaie pas de deviner que répéter un texte 5.0 fois a un sens, il regarde juste le type, et ce qui a été programmé par ceux qui ont conçu python."
   ]
  },
  {
   "cell_type": "markdown",
   "metadata": {},
   "source": [
    "#### 2. Les opérateurs"
   ]
  },
  {
   "cell_type": "markdown",
   "metadata": {},
   "source": [
    "Les opérateurs en python sont les suivants :"
   ]
  },
  {
   "cell_type": "markdown",
   "metadata": {},
   "source": [
    "##### a. L'opérateur assignation"
   ]
  },
  {
   "cell_type": "markdown",
   "metadata": {},
   "source": [
    "**un seul** signe égal, donne une valeur à une variable"
   ]
  },
  {
   "cell_type": "code",
   "execution_count": null,
   "metadata": {
    "collapsed": false
   },
   "outputs": [],
   "source": [
    "a = 7"
   ]
  },
  {
   "cell_type": "markdown",
   "metadata": {},
   "source": [
    "###### b. Opérateurs égalités et différences"
   ]
  },
  {
   "cell_type": "markdown",
   "metadata": {},
   "source": [
    "L'égalité est représentée par **deux** signes égal : **==**  \n",
    "La différence par un point d'exclamation et un signe = **!=**  \n",
    "\n",
    "Il fonctionne très bien avec des types différents."
   ]
  },
  {
   "cell_type": "code",
   "execution_count": null,
   "metadata": {
    "collapsed": false
   },
   "outputs": [],
   "source": [
    "print('a == 7    : ')\n",
    "print(a == 7)   # égalité\n",
    "print('a == \"7\"  : ')\n",
    "print(a == \"7\") # fonctionne entre tous types  \n",
    "print( 'a != 7   : ')\n",
    "print(a != 7)   # différence\n",
    "print( 'a != \"7\" : ')\n",
    "print(a != \"7\") # différence"
   ]
  },
  {
   "cell_type": "markdown",
   "metadata": {},
   "source": [
    "###### c. Les opérateurs mathématiques"
   ]
  },
  {
   "cell_type": "code",
   "execution_count": null,
   "metadata": {
    "collapsed": false
   },
   "outputs": [],
   "source": [
    "print(  2+3 ) # addition\n",
    "print(  2-3 ) # soustraction\n",
    "print(  2*3 ) # multiplication\n",
    "\n",
    "print(  2/3 ) # division à virgule flottante\n",
    "\n",
    "print( 13 // 5 ) # quotient de la division euclidienne\n",
    "print( 13 %  5 ) # reste de la division euclidienne\n",
    "\n",
    "print( 2**3 ) # puissance"
   ]
  },
  {
   "cell_type": "markdown",
   "metadata": {},
   "source": [
    "###### d. Les opérateurs bizarres (binaires de leur vrai nom)"
   ]
  },
  {
   "cell_type": "markdown",
   "metadata": {},
   "source": [
    "Vous n'en aurez pas besoin pour ce jour, sachez seulement qu'ils existent !"
   ]
  },
  {
   "cell_type": "code",
   "execution_count": null,
   "metadata": {
    "collapsed": false
   },
   "outputs": [],
   "source": [
    "print( 20 << 2 )\n",
    "print( 20 >> 2 )\n",
    "print( 21 ^ 13 )\n",
    "print( 21 & 13 )\n",
    "print( 21 | 13 )"
   ]
  },
  {
   "cell_type": "markdown",
   "metadata": {},
   "source": [
    "#### 3. Les instructions conditionnelles"
   ]
  },
  {
   "cell_type": "code",
   "execution_count": null,
   "metadata": {
    "collapsed": false
   },
   "outputs": [],
   "source": [
    "if note >= 18:\n",
    "    commentaire = \"Félicitations !\"\n",
    "elif note >= 15:\n",
    "    commentaire = \"Très bon travail\"\n",
    "elif note >= 12:\n",
    "    commentaire = \"Bon Travail\"\n",
    "elif note >= 10:\n",
    "    commentaire = \"Travail passable\"\n",
    "elif note >= 8:\n",
    "    commentaire = \"Des efforts à fournir\"\n",
    "else:\n",
    "    commentaire = \"Travail insuffisant\""
   ]
  },
  {
   "cell_type": "markdown",
   "metadata": {},
   "source": [
    "if => si  \n",
    "elif => else/if => sinon et si  \n",
    "else => sinon  \n",
    "\n",
    "A noter que l'on préfèrera utiliser une boucle plutôt que la structure précédente.\n",
    "\n",
    "Le code précédent se lit :\n",
    "\n",
    "~~~\n",
    "si la note est supérieure ou égale à 18:\n",
    "    la variable commentaire vaut \"Félicitations !\"\n",
    "sinon et si la note est supérieure ou égale à 15: \n",
    "    la variable commentaire vaut \"Très bon travail\"\n",
    "sinon et si la note est supérieure ou égale à 12: \n",
    "    la variable commentaire vaut \"Bon Travail\"\n",
    "sinon et si la note est supérieure ou égale à 10: \n",
    "    la variable commentaire vaut \"Travail passable\"\n",
    "sinon et si la note est supérieure ou égale à 8: \n",
    "    la variable commentaire vaut \"Des efforts à fournir\"\n",
    "sinon (i.e. si aucune des conditions précédentes n'est vérifiée):\n",
    "    la variable commentaire vaut \"Travail insuffisant\"\n",
    "~~~\n",
    "\n",
    "A noter que l'on peut utiliser des variables ou expression booléenne, par exemple :"
   ]
  },
  {
   "cell_type": "markdown",
   "metadata": {},
   "source": [
    "#### 4. Fonctions"
   ]
  },
  {
   "cell_type": "markdown",
   "metadata": {},
   "source": [
    "Imaginons que l'on souhaite reproduire le code précédent, mais pour différentes notes, et éventuellement en différents endroits du code.\n",
    "\n",
    "On souhaite bien évidemment ne pas copier-coller le code.\n",
    "\n",
    "On définit alors une fonction :"
   ]
  },
  {
   "cell_type": "code",
   "execution_count": 2,
   "metadata": {
    "collapsed": false
   },
   "outputs": [],
   "source": [
    "def faire_commentaire(note):\n",
    "    if note >= 18:\n",
    "        commentaire = \"Félicitations !\"\n",
    "    elif note >= 15:\n",
    "        commentaire = \"Très bon travail\"\n",
    "    elif note >= 12:\n",
    "        commentaire = \"Bon Travail\"\n",
    "    elif note >= 10:\n",
    "        commentaire = \"Travail passable\"\n",
    "    elif note >= 8:\n",
    "        commentaire = \"Des efforts à fournir\"\n",
    "    else:\n",
    "        commentaire = \"Travail insuffisant\"\n",
    "    return commentaire"
   ]
  },
  {
   "cell_type": "code",
   "execution_count": 3,
   "metadata": {
    "collapsed": false
   },
   "outputs": [
    {
     "name": "stdout",
     "output_type": "stream",
     "text": [
      "Félicitations !\n",
      "Très bon travail\n",
      "Travail insuffisant\n"
     ]
    }
   ],
   "source": [
    "print(faire_commentaire(19))\n",
    "print(faire_commentaire(16))\n",
    "print(faire_commentaire( 0))"
   ]
  },
  {
   "cell_type": "markdown",
   "metadata": {},
   "source": [
    "A noter la variable entre parenthèse, **note**.\n",
    "Il s'agit d'un type de variable particulière, un paramètre, dont on définit le nom au moment de la définition de la fonction, et qui prend une valeur au moment de l'appel de la fonction."
   ]
  },
  {
   "cell_type": "markdown",
   "metadata": {},
   "source": [
    "#### 5. L'indentation"
   ]
  },
  {
   "cell_type": "markdown",
   "metadata": {},
   "source": [
    "**Important:** remarquez l'absence de { } comme dans les autres langages, et la présence d'espace en début de ligne.\n",
    "\n",
    "On appelle cela **l'indentation** et elle est très importante en python car elle détermine de quel bloc les instructions font partie.\n",
    "\n",
    "Elle est également importante dans d'autres langages, mais uniquement pour la lisibilité du code dans ce cas là."
   ]
  },
  {
   "cell_type": "code",
   "execution_count": null,
   "metadata": {
    "collapsed": false
   },
   "outputs": [],
   "source": [
    "x = 30\n",
    "\n",
    "if x < 15:\n",
    "    print(\"x est plus petit que 15\")\n",
    "    if x > 20:\n",
    "        print(\"ce test est idiot :-(\")\n",
    "else:\n",
    "    print(\"x est plus grand ou égal à 15\")\n",
    "    if x > 20:\n",
    "        print(\"Là, ce test fait sens !\")\n",
    "    else:\n",
    "        print(\"x est compris entre 15 et 20\")\n",
    "\n",
    "if x*x > 50:\n",
    "    print(\"Le carré de x est plus grand que 50\")\n",
    "\n",
    "if x*x < 9:\n",
    "    print(\"x est sans doute assez petit\") "
   ]
  },
  {
   "cell_type": "markdown",
   "metadata": {},
   "source": [
    "#### 6. Boucles while et for"
   ]
  },
  {
   "cell_type": "markdown",
   "metadata": {},
   "source": [
    "La boucle while permet de répéter une opération jusqu'à ce qu'une condition particulière soit remplie.\n",
    "\n",
    "La boucle for consiste à répéter une opération un certain nombre de fois, ou pour tous les éléments d'un ensemble."
   ]
  },
  {
   "cell_type": "code",
   "execution_count": null,
   "metadata": {
    "collapsed": false
   },
   "outputs": [],
   "source": [
    "a = 0 ## on définit une variable a qui vaut 0\n",
    "\n",
    "while a < 100: ## tant que a est strictement inférieur à 100\n",
    "    a = a + 1  ## on définit a à sa valeur + 1\n",
    "    \n",
    "print(a) ## on affiche a"
   ]
  },
  {
   "cell_type": "markdown",
   "metadata": {},
   "source": [
    "La boucle for permet de répéter une opération :\n",
    "\n",
    "- un certain nombre de fois\n",
    "- pour tous les éléments d'un ensemble\n",
    "\n",
    "Par exemple:"
   ]
  },
  {
   "cell_type": "code",
   "execution_count": null,
   "metadata": {
    "collapsed": false
   },
   "outputs": [],
   "source": [
    "x = 0\n",
    "for it in range(42): ## peut se lire : répéter 42 fois\n",
    "    x = x + 1\n",
    "print(x)\n",
    "    \n",
    "for it in range(10): ## pour tous les éléments de [0:10[\n",
    "    print(it)  "
   ]
  },
  {
   "cell_type": "markdown",
   "metadata": {},
   "source": [
    "#### 7. Erreurs et exception"
   ]
  },
  {
   "cell_type": "markdown",
   "metadata": {},
   "source": [
    "Lorsque l'ordinateur n'arrive pas à exécuter votre code, il va produire des erreurs. Il y en a beaucoup, qu'on peut diviser en deux catégories :\n",
    "\n",
    "- erreur de syntaxe : l'ordinateur ne comprend pas ce que vous lui demandez\n",
    "- erreur d'exécution : l'ordinateur comprend, mais n'y arrive pas\n",
    "\n",
    "En terme humain, cela correspond au cas suivant :\n",
    "\n",
    "1. Je vous demande \"anataha gakusei desuka ?\" -> vous ne comprenez pas il s'agit d'une erreur de syntaxe\n",
    "2. Je vous demande \"volez jusqu'à la lune, et ramenez moi un morceau\" -> vous comprenez la demande mais n'y arrivez pas. Il s'agit d'une erreur d'exécution.\n",
    "\n",
    "Les erreurs de syntaxes arrivent toujours avant celle d'exécution. Si vous avez une erreur d'exécution, voyez le côté positif, vous n'avez pas d'erreur de syntaxe."
   ]
  },
  {
   "cell_type": "code",
   "execution_count": null,
   "metadata": {
    "collapsed": false
   },
   "outputs": [],
   "source": [
    "if 10 < 20:\n",
    "    print(\"C'est évident\")\n",
    "  print(\"Quoique ...\")"
   ]
  },
  {
   "cell_type": "code",
   "execution_count": null,
   "metadata": {
    "collapsed": false
   },
   "outputs": [],
   "source": [
    "print(\"Coucou\"\n",
    "      "
   ]
  },
  {
   "cell_type": "code",
   "execution_count": null,
   "metadata": {
    "collapsed": false
   },
   "outputs": [],
   "source": [
    "a = 0\n",
    "b = 1\n",
    "c = b/A"
   ]
  }
 ],
 "metadata": {
  "kernelspec": {
   "display_name": "Python 3",
   "language": "python",
   "name": "python3"
  },
  "language_info": {
   "codemirror_mode": {
    "name": "ipython",
    "version": 3
   },
   "file_extension": ".py",
   "mimetype": "text/x-python",
   "name": "python",
   "nbconvert_exporter": "python",
   "pygments_lexer": "ipython3",
   "version": "3.4.4"
  }
 },
 "nbformat": 4,
 "nbformat_minor": 0
}
